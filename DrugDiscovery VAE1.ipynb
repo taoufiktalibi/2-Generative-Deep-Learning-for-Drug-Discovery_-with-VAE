{
 "cells": [
  {
   "cell_type": "code",
   "execution_count": null,
   "id": "7fbd8acf-dabb-4be0-b345-dc1e6388790d",
   "metadata": {},
   "outputs": [],
   "source": []
  },
  {
   "cell_type": "code",
   "execution_count": null,
   "id": "cda912c4-f46b-4815-800d-9d0fd905dff6",
   "metadata": {},
   "outputs": [],
   "source": []
  },
  {
   "cell_type": "code",
   "execution_count": 419,
   "id": "2b5082a1-6ad0-45be-8cd5-2652669175e1",
   "metadata": {},
   "outputs": [],
   "source": [
    "import tensorflow as tf\n",
    "#from tensorflow.keras.models import Sequential, Model\n",
    "import tf_keras as tfk\n",
    "import tensorflow_probability as tfp\n",
    "import random\n",
    "import numpy as np\n",
    "tfd = tfp.distributions\n",
    "tfpl = tfp.layers\n",
    "tfb = tfp.bijectors\n",
    "\n",
    "import tf_keras as tfk\n",
    "tfkl = tfk.layers\n",
    "\n",
    "from tensorflow.keras.utils import pad_sequences\n",
    "from tensorflow.keras.preprocessing.text import Tokenizer\n",
    "from sklearn.model_selection import train_test_split"
   ]
  },
  {
   "cell_type": "markdown",
   "id": "d76f2b90-e4cf-49d6-a166-a8579b26f238",
   "metadata": {},
   "source": [
    "## Preparation of data"
   ]
  },
  {
   "cell_type": "code",
   "execution_count": 420,
   "id": "e3c1411d-b15d-4ee4-875c-34c8a278e37e",
   "metadata": {},
   "outputs": [
    {
     "name": "stdout",
     "output_type": "stream",
     "text": [
      "(847, 50)\n"
     ]
    },
    {
     "data": {
      "text/plain": [
       "numpy.ndarray"
      ]
     },
     "execution_count": 420,
     "metadata": {},
     "output_type": "execute_result"
    }
   ],
   "source": [
    "DATA_PATH = \"c:\\\\users\\\\talibit\\\\Drug_discovery_data\\\\alzheimersdata.txt\"\n",
    "data = open(DATA_PATH, 'r').read().splitlines()\n",
    "new = []\n",
    "count =0\n",
    "for molecule in data:\n",
    "    count+=1\n",
    "    if 30 < len(molecule) < 50 and count < 300000:\n",
    "        if ('T' not in molecule) and ('V' not in molecule) and ('g' not in molecule) and ('L' not in molecule) and ('8' not in molecule):\n",
    "            new.append(molecule)\n",
    "\n",
    "max_seq_len = len(max(new, key=len)) \n",
    "\n",
    "l = [['$']+ list(i) for i in new]\n",
    "#l = [['$']+ [i] for i in new]\n",
    "data = pad_sequences(l, maxlen=max_seq_len+1, padding=\"post\", value=\"£\",dtype=object) \n",
    "print(data.shape)\n",
    "# so now each smile string is 50 character long element\n",
    "#data = np.expand_dims(data, -1)\n",
    "type(data)"
   ]
  },
  {
   "cell_type": "code",
   "execution_count": 421,
   "id": "57ae1a25-40b6-4d0f-b13b-ac8351919d97",
   "metadata": {},
   "outputs": [
    {
     "data": {
      "text/plain": [
       "(847, 50, 1)"
      ]
     },
     "execution_count": 421,
     "metadata": {},
     "output_type": "execute_result"
    }
   ],
   "source": [
    "tokenizer = Tokenizer(num_words=None, char_level=True, lower=False) \n",
    "\n",
    "tokenizer.fit_on_texts(data) \n",
    "new_data = tokenizer.texts_to_sequences(data) \n",
    "new_data = np.array(new_data)\n",
    "new_data = np.expand_dims(new_data,-1)\n",
    "new_data.shape"
   ]
  },
  {
   "cell_type": "code",
   "execution_count": 422,
   "id": "ca65a171-cfab-412a-8ab1-d37a1b1ce8e0",
   "metadata": {},
   "outputs": [
    {
     "name": "stdout",
     "output_type": "stream",
     "text": [
      "number of words in word_index: 37\n",
      "word_index: {'c': 1, '£': 2, 'C': 3, '(': 4, ')': 5, '1': 6, '2': 7, 'n': 8, 'O': 9, '3': 10, 'N': 11, '=': 12, '$': 13, '-': 14, '[': 15, ']': 16, '4': 17, 'H': 18, 'F': 19, '/': 20, 'o': 21, 'l': 22, 'S': 23, 'B': 24, 'r': 25, '@': 26, 's': 27, '#': 28, '\\\\': 29, '+': 30, '.': 31, '5': 32, 'I': 33, 'ï': 34, '»': 35, '¿': 36, 'P': 37}\n"
     ]
    }
   ],
   "source": [
    "word_index = tokenizer.word_index\n",
    "vocab_size = len(tokenizer.word_index)\n",
    "print(f'number of words in word_index: {vocab_size}')\n",
    "print(f'word_index: {word_index}')"
   ]
  },
  {
   "cell_type": "code",
   "execution_count": 423,
   "id": "d42aabc1-019b-4eb3-9521-e6f1d584eb1b",
   "metadata": {},
   "outputs": [],
   "source": [
    "seed = 1\n",
    "np.random.seed(seed)\n",
    "full_train, x_test = train_test_split(np.array(new_data), test_size=0.2, random_state=seed)\n",
    "\n",
    "x_train, x_val = train_test_split(np.array(full_train), test_size=0.1, random_state=seed)"
   ]
  },
  {
   "cell_type": "code",
   "execution_count": 424,
   "id": "f85ae49e-7bc9-4238-86fa-ce0156f4edf9",
   "metadata": {},
   "outputs": [
    {
     "data": {
      "text/plain": [
       "((609, 50, 1), (68, 50, 1), (170, 50, 1))"
      ]
     },
     "execution_count": 424,
     "metadata": {},
     "output_type": "execute_result"
    }
   ],
   "source": [
    "x_train.shape , x_val.shape, x_test.shape"
   ]
  },
  {
   "cell_type": "code",
   "execution_count": 425,
   "id": "b9a8c9a5-26c6-47e8-b16d-8f3d8845a4f9",
   "metadata": {},
   "outputs": [],
   "source": [
    "## Now let's build a simple VAE that encode 50 characters logn smile string into \n",
    "\n",
    "latent_size = 10\n",
    "Prior_distribution = tfd.MultivariateNormalDiag(loc=tf.zeros(latent_size, dtype=tf.float32),\n",
    "                                        scale_diag=tf.ones(latent_size, dtype=tf.float32))\n",
    "\n",
    "\n",
    "kl_regularizer= tfpl.KLDivergenceRegularizer(Prior_distribution,\n",
    "                                                          weight = 1.0,\n",
    "                                                          use_exact_kl = False, # using analytical formula leads to \n",
    "                                                          test_points_fn = lambda q :q.sample(3),\n",
    "                                                          test_points_reduce_axis = None) #None : all axis are averaged"
   ]
  },
  {
   "cell_type": "code",
   "execution_count": 426,
   "id": "f77dae41-9eef-4314-86d7-5cbdf95be8a1",
   "metadata": {},
   "outputs": [
    {
     "name": "stdout",
     "output_type": "stream",
     "text": [
      "Model: \"sequential_75\"\n",
      "_________________________________________________________________\n",
      " Layer (type)                Output Shape              Param #   \n",
      "=================================================================\n",
      " lstm_245 (LSTM)             (None, 50, 128)           66560     \n",
      "                                                                 \n",
      " dropout_249 (Dropout)       (None, 50, 128)           0         \n",
      "                                                                 \n",
      " max_pooling1d_63 (MaxPooli  (None, 25, 128)           0         \n",
      " ng1D)                                                           \n",
      "                                                                 \n",
      " lstm_246 (LSTM)             (None, 25, 256)           394240    \n",
      "                                                                 \n",
      " dropout_250 (Dropout)       (None, 25, 256)           0         \n",
      "                                                                 \n",
      " max_pooling1d_64 (MaxPooli  (None, 12, 256)           0         \n",
      " ng1D)                                                           \n",
      "                                                                 \n",
      " lstm_247 (LSTM)             (None, 12, 512)           1574912   \n",
      "                                                                 \n",
      " dropout_251 (Dropout)       (None, 12, 512)           0         \n",
      "                                                                 \n",
      " flatten_74 (Flatten)        (None, 6144)              0         \n",
      "                                                                 \n",
      " dense_110 (Dense)           (None, 65)                399425    \n",
      "                                                                 \n",
      " multivariate_normal_tri_l_  ((None, 10),              0         \n",
      " 37 (MultivariateNormalTriL   (None, 10))                        \n",
      " )                                                               \n",
      "                                                                 \n",
      "=================================================================\n",
      "Total params: 2435137 (9.29 MB)\n",
      "Trainable params: 2435137 (9.29 MB)\n",
      "Non-trainable params: 0 (0.00 Byte)\n",
      "_________________________________________________________________\n"
     ]
    }
   ],
   "source": [
    "encoder = tfk.Sequential([\n",
    "        tfkl.LSTM(128, input_shape=(50,1), return_sequences=True),\n",
    "        tfkl.Dropout(0.15),\n",
    "        tfkl.MaxPooling1D(pool_size=2),\n",
    "        tfkl.LSTM(256, return_sequences=True),\n",
    "        tfkl.Dropout(0.05),\n",
    "        tfkl.MaxPooling1D(pool_size=2),\n",
    "        tfkl.LSTM(512, return_sequences=True),\n",
    "        tfkl.Dropout(0.25),\n",
    "        tfkl.Flatten(),\n",
    "        tfkl.Dense(tfpl.MultivariateNormalTriL.params_size(latent_size)),\n",
    "        tfpl.MultivariateNormalTriL(latent_size,\n",
    "                                   activity_regularizer = kl_regularizer)\n",
    "\n",
    "\n",
    "    ])\n",
    "encoder.summary()"
   ]
  },
  {
   "cell_type": "code",
   "execution_count": 427,
   "id": "b6d08d83-311b-4fd8-b3d9-71f5d9dcc7a3",
   "metadata": {},
   "outputs": [
    {
     "name": "stdout",
     "output_type": "stream",
     "text": [
      "Model: \"sequential_76\"\n",
      "_________________________________________________________________\n",
      " Layer (type)                Output Shape              Param #   \n",
      "=================================================================\n",
      " dense_111 (Dense)           (None, 10)                110       \n",
      "                                                                 \n",
      " reshape_68 (Reshape)        (None, 10, 1)             0         \n",
      "                                                                 \n",
      " lstm_248 (LSTM)             (None, 10, 512)           1052672   \n",
      "                                                                 \n",
      " dropout_252 (Dropout)       (None, 10, 512)           0         \n",
      "                                                                 \n",
      " up_sampling1d_52 (UpSampli  (None, 20, 512)           0         \n",
      " ng1D)                                                           \n",
      "                                                                 \n",
      " lstm_249 (LSTM)             (None, 20, 256)           787456    \n",
      "                                                                 \n",
      " dropout_253 (Dropout)       (None, 20, 256)           0         \n",
      "                                                                 \n",
      " up_sampling1d_53 (UpSampli  (None, 40, 256)           0         \n",
      " ng1D)                                                           \n",
      "                                                                 \n",
      " lstm_250 (LSTM)             (None, 40, 128)           197120    \n",
      "                                                                 \n",
      " dropout_254 (Dropout)       (None, 40, 128)           0         \n",
      "                                                                 \n",
      " flatten_75 (Flatten)        (None, 5120)              0         \n",
      "                                                                 \n",
      " dense_112 (Dense)           (None, 1900)              9729900   \n",
      "                                                                 \n",
      " reshape_69 (Reshape)        (None, 50, 38)            0         \n",
      "                                                                 \n",
      " distribution_lambda_38 (Di  ((None, 50),              0         \n",
      " stributionLambda)            (None, 50))                        \n",
      "                                                                 \n",
      "=================================================================\n",
      "Total params: 11767258 (44.89 MB)\n",
      "Trainable params: 11767258 (44.89 MB)\n",
      "Non-trainable params: 0 (0.00 Byte)\n",
      "_________________________________________________________________\n"
     ]
    }
   ],
   "source": [
    "\n",
    "decoder = tfk.Sequential([\n",
    "    tfkl.Dense(10, activation = 'relu', input_shape =(latent_size,)),\n",
    "    tfkl.Reshape((latent_size,1)),\n",
    "    tfkl.LSTM(512, return_sequences=True),\n",
    "    tfkl.Dropout(0.05),\n",
    "    tfkl.UpSampling1D(size = 2),\n",
    "    tfkl.LSTM(256, return_sequences=True),\n",
    "    tfkl.Dropout(0.05),\n",
    "    tfkl.UpSampling1D(size = 2),\n",
    "    tfkl.LSTM(128, return_sequences=True),\n",
    "    tfkl.Dropout(0.05),\n",
    "    tfkl.Flatten(),\n",
    "    tfkl.Dense(50 * (vocab_size+1)),  # Output 50 * 37 logits\n",
    "    tfkl.Reshape((50, vocab_size+1)),  # Reshape to (50, 37)\n",
    "    tfpl.DistributionLambda(lambda t: tfd.Independent(\n",
    "        tfd.Categorical(logits=t), reinterpreted_batch_ndims=1))\n",
    "\n",
    "])\n",
    "decoder.summary()"
   ]
  },
  {
   "cell_type": "code",
   "execution_count": 428,
   "id": "f2af1648-ca62-4f82-8d81-a96195ab24fa",
   "metadata": {},
   "outputs": [],
   "source": [
    "vae = tfk.Model(inputs=encoder.inputs, outputs=decoder(encoder.outputs))"
   ]
  },
  {
   "cell_type": "code",
   "execution_count": 429,
   "id": "6470e15a-d9e6-41e4-84eb-612a8650d5fa",
   "metadata": {},
   "outputs": [],
   "source": [
    "optimizer = tfk.optimizers.Adam(learning_rate=0.0005)\n",
    "optimizer1 = tfk.optimizers.SGD()\n",
    "vae.compile(optimizer=optimizer, loss=lambda x, pred : -tf.reduce_mean(pred.log_prob(x)))"
   ]
  },
  {
   "cell_type": "code",
   "execution_count": 430,
   "id": "26534318-37fd-4d5a-a638-6a4f1c9fb3f4",
   "metadata": {},
   "outputs": [
    {
     "name": "stdout",
     "output_type": "stream",
     "text": [
      "Epoch 1/30\n",
      "20/20 [==============================] - 21s 462ms/step - loss: 130.7246 - val_loss: 109.0995\n",
      "Epoch 2/30\n",
      "20/20 [==============================] - 6s 284ms/step - loss: 106.6514 - val_loss: 107.7340\n",
      "Epoch 3/30\n",
      "20/20 [==============================] - 5s 274ms/step - loss: 105.5858 - val_loss: 106.8224\n",
      "Epoch 4/30\n",
      "20/20 [==============================] - 6s 306ms/step - loss: 105.2572 - val_loss: 106.5245\n",
      "Epoch 5/30\n",
      "20/20 [==============================] - 5s 272ms/step - loss: 105.0143 - val_loss: 106.4022\n",
      "Epoch 6/30\n",
      "20/20 [==============================] - 6s 279ms/step - loss: 105.2777 - val_loss: 106.5018\n",
      "Epoch 7/30\n",
      "20/20 [==============================] - 6s 285ms/step - loss: 104.7805 - val_loss: 106.8347\n",
      "Epoch 8/30\n",
      "20/20 [==============================] - 5s 265ms/step - loss: 104.9659 - val_loss: 106.3218\n",
      "Epoch 9/30\n",
      "20/20 [==============================] - 6s 277ms/step - loss: 104.7745 - val_loss: 106.6059\n",
      "Epoch 10/30\n",
      "20/20 [==============================] - 6s 303ms/step - loss: 104.8004 - val_loss: 106.3660\n",
      "Epoch 11/30\n",
      "20/20 [==============================] - 6s 286ms/step - loss: 104.8033 - val_loss: 106.5039\n",
      "Epoch 12/30\n",
      "20/20 [==============================] - 6s 275ms/step - loss: 104.6286 - val_loss: 106.3368\n",
      "Epoch 13/30\n",
      "20/20 [==============================] - 6s 283ms/step - loss: 104.4017 - val_loss: 106.5073\n",
      "Epoch 14/30\n",
      "20/20 [==============================] - 6s 288ms/step - loss: 104.5373 - val_loss: 106.3016\n",
      "Epoch 15/30\n",
      "20/20 [==============================] - 5s 270ms/step - loss: 104.3777 - val_loss: 106.3404\n",
      "Epoch 16/30\n",
      "20/20 [==============================] - 6s 306ms/step - loss: 104.4090 - val_loss: 106.4711\n",
      "Epoch 17/30\n",
      "20/20 [==============================] - 5s 270ms/step - loss: 104.3156 - val_loss: 106.3138\n",
      "Epoch 18/30\n",
      "20/20 [==============================] - 7s 361ms/step - loss: 104.4485 - val_loss: 106.6178\n",
      "Epoch 19/30\n",
      "20/20 [==============================] - 6s 283ms/step - loss: 104.2973 - val_loss: 106.7534\n",
      "Epoch 20/30\n",
      "20/20 [==============================] - 6s 303ms/step - loss: 104.4809 - val_loss: 106.6238\n",
      "Epoch 21/30\n",
      "20/20 [==============================] - 6s 293ms/step - loss: 104.4910 - val_loss: 106.4796\n",
      "Epoch 22/30\n",
      "20/20 [==============================] - 6s 292ms/step - loss: 104.2145 - val_loss: 106.3939\n",
      "Epoch 23/30\n",
      "20/20 [==============================] - 6s 280ms/step - loss: 104.2153 - val_loss: 106.3945\n",
      "Epoch 24/30\n",
      "20/20 [==============================] - 6s 316ms/step - loss: 104.2945 - val_loss: 106.6875\n",
      "Epoch 25/30\n",
      "20/20 [==============================] - 6s 278ms/step - loss: 104.2453 - val_loss: 106.3448\n",
      "Epoch 26/30\n",
      "20/20 [==============================] - 6s 315ms/step - loss: 104.1558 - val_loss: 106.4408\n",
      "Epoch 27/30\n",
      "20/20 [==============================] - 6s 274ms/step - loss: 103.9999 - val_loss: 106.3698\n",
      "Epoch 28/30\n",
      "20/20 [==============================] - 6s 301ms/step - loss: 104.0659 - val_loss: 106.4727\n",
      "Epoch 29/30\n",
      "20/20 [==============================] - 6s 308ms/step - loss: 104.1709 - val_loss: 106.8137\n",
      "Epoch 30/30\n",
      "20/20 [==============================] - 6s 293ms/step - loss: 104.0745 - val_loss: 106.5081\n"
     ]
    },
    {
     "data": {
      "text/plain": [
       "<tf_keras.src.callbacks.History at 0x22f37157800>"
      ]
     },
     "execution_count": 430,
     "metadata": {},
     "output_type": "execute_result"
    }
   ],
   "source": [
    "#vae.fit(x = x_train, y = x_train,validation_data = (x_val,x_val), epochs = 1)\n",
    "vae.fit(x = x_train, y = np.squeeze(x_train),validation_data = (x_val, np.squeeze(x_val)), epochs = 30)"
   ]
  },
  {
   "cell_type": "code",
   "execution_count": 431,
   "id": "01d5beea-8576-4708-8944-f5c45af0f4a2",
   "metadata": {},
   "outputs": [
    {
     "name": "stdout",
     "output_type": "stream",
     "text": [
      "6/6 [==============================] - 3s 34ms/step - loss: 0.0333\n",
      "Test loss: 0.0332772321999073\n"
     ]
    }
   ],
   "source": [
    "# Evaluate the model on the test set\n",
    "\n",
    "test_loss = vae.evaluate(x_test)\n",
    "print(\"Test loss: {}\".format(test_loss))"
   ]
  },
  {
   "cell_type": "markdown",
   "id": "cdcdb9c4-a807-4d92-8368-12e37efef8d4",
   "metadata": {},
   "source": [
    "### Reconstruction of some examples"
   ]
  },
  {
   "cell_type": "code",
   "execution_count": 432,
   "id": "769e4955-39b9-4406-8bf7-0bf1f1f97128",
   "metadata": {},
   "outputs": [
    {
     "name": "stdout",
     "output_type": "stream",
     "text": [
      "(847, 50)\n",
      "the initial smile string is: $CCc1cc2c(c3cc(OC)c(OC)cc13)C(=O)NC2=O££££££££££££\n"
     ]
    },
    {
     "data": {
      "text/plain": [
       "['$ C C C n O c 1 ) C 2 C n c \\\\ N c c ( H c F c c c c c c = c c c ( 3 2 c c C £ c c 1 2 N C £ £ £ 1 1']"
      ]
     },
     "execution_count": 432,
     "metadata": {},
     "output_type": "execute_result"
    }
   ],
   "source": [
    "print(data.shape)\n",
    "\n",
    "random_number = random.randint(0, 846)\n",
    "print(\"the initial smile string is:\",''.join(data[random_number,:].tolist()))\n",
    "\n",
    "new_data = tokenizer.texts_to_sequences(data[random_number,:]) \n",
    "new_data = np.expand_dims(new_data,0)\n",
    "new_data.shape\n",
    "q = encoder(new_data)\n",
    "q\n",
    "p = decoder(q.mean())\n",
    "\n",
    "\n",
    "sequence = p.sample().numpy()\n",
    "tokenizer.sequences_to_texts(sequence)"
   ]
  },
  {
   "cell_type": "code",
   "execution_count": 433,
   "id": "92736530-6ecb-4ce2-88b8-a49492e41916",
   "metadata": {},
   "outputs": [
    {
     "data": {
      "text/plain": [
       "['$ N C C 1 C c c c 2 - C ( n 2 / O c C 2 B ( 3 ( 4 O ( C c n c ) n 1 c 2 ) 2 c £ 1 ] £ £ £ ] O . £ £',\n",
       " '$ C = c 1 N c c n 1 c H C n n 3 c n c ( c C ( C c O c 3 ) c c c C c c \\\\ c N ) n C ) £ £ 3 £ £ £ £ £',\n",
       " '$ C O C = 1 c C ) O C C c c c c c C C n 2 c c ( c 2 n c 2 c c c O 2 n c ) £ c c F £ £ £ £ C £ £ £ £',\n",
       " '$ F C c 1 c c 1 c c ) 1 c c ( ) c c c - n F c 4 c I c c c O C c ) ) 2 3 ) ) O c C 4 3 r £ £ c £ £ £',\n",
       " '$ C O c c N c ( 1 O C ( n c c n ( ( n = c ) c C 3 3 3 ( c - c c ) c c ( c 2 = c 1 2 O n £ C £ £ £ 1',\n",
       " '$ C C C 1 = ( - ) O 1 c n N ( ) c 3 c = C c ) ( c ( 3 ) ) ) C c C c ( ( n l c £ ) c 2 ) £ c = £ C £',\n",
       " '$ C C N c c C c 1 [ C c ] C 2 c = n n c c C c ( ) c n n c 4 c c ) c B ( 1 n 2 O c c c C £ £ C £ £ £',\n",
       " '$ C = 1 ( c c ( 2 / c ( 1 n C 3 c c c ( c c ) 2 n c n c c c ) c 1 - n C C 4 O 4 £ 1 C c C 2 £ £ O £',\n",
       " '$ C O O C c c 1 n ( c C c n c C 3 c c n N N c c c ( C c ) c \\\\ c 1 4 c C 1 ) £ ] ) ) £ £ 1 £ £ £ £ £',\n",
       " '$ C C c c ( c n 1 / 1 n 2 c c n c c 4 ( ) ) c ) n c c ( ) 4 c N C c = C c ) 1 2 C £ £ £ £ £ n O £ £',\n",
       " '$ C n 1 1 ( 1 1 O C n ( c n 2 c c C 1 ( 3 c n c ( n c ) c n ) C c c c 4 ) ) 1 c ) 1 c 1 £ c £ £ £ £',\n",
       " '$ C S C ( c ( c ) c c ( \\\\ c 2 H c c ( c c ( c c ) ( c c n c n N n ) n ) F n C 1 2 £ c £ c £ ) = £ £',\n",
       " '$ O C C n c 1 ) n C 2 ) n c ( c 3 c c ( - c H C [ n ( c ( N C 2 c c C ) c 1 2 C c n £ £ £ £ £ £ £ £',\n",
       " '$ C c 1 C C C c c c 2 ( c ( n ( c C ( c ( c c c c 3 ) n c 4 C [ c = c c N c 2 n £ 3 £ £ £ £ £ ) £ £',\n",
       " '$ O O N C N c 2 ( C 1 ( H c \\\\ n c F ( c ) - 2 C c ) 3 ( c c ) 3 N 2 n ) C c 1 £ ) £ £ 2 N £ £ £ c £',\n",
       " '$ N c C 1 c N C c ( c 2 n C c c ] - 2 c c - C 1 n = c c n ( ) n 3 c 4 ) 1 ( c c 1 n O c £ l £ £ £ £',\n",
       " '$ C O C 1 c C 1 c N N H 1 c 2 2 [ ( n n c c = ) - c C ) c 4 l l c = c n l C £ 4 £ 2 c c £ £ c £ £ £',\n",
       " '$ 2 O 1 1 N c C F - C ) B c C n ] ( n ( O n 3 N [ c c ) 2 n s ) C c C 4 o n 1 C c 1 £ c c l £ £ l £',\n",
       " '$ O n = ( @ c ] = c 1 [ c ) H 3 1 n C ( ) n c c c 2 3 o c c n c 2 N c c n c c 1 1 1 C c £ £ £ £ £ £',\n",
       " '$ C C c c c ] c ( n c 2 H 3 c ( 1 = = l ( 1 n c c c c 5 1 3 ) ) c c c ) ) O c ) ) ) £ £ 3 £ ) £ £ £',\n",
       " '$ C = C = N c c 1 c c = C c ( O ( c c ( c n c ( ( 2 c ) c c c C ( c ) O 2 2 c N £ £ £ £ £ 3 c £ £ £',\n",
       " '$ C 1 ( C c O c = [ C ( ( 1 ( C 3 n 2 ( N ( c c 4 c ) c [ c = ) F ( O 2 ] ) 1 c N 1 C C £ £ O £ c £',\n",
       " '$ C O C 1 N N = c n ( = ( [ F c [ ( c c 3 2 l c C c 2 ( c O 3 H ) C £ c ) ) 3 £ C £ 2 £ s ) c £ £ £',\n",
       " '$ O [ 1 1 = ) c c O N 1 C N c 2 ) ) - S C ( ( F 2 c 4 ( ) 2 / C ) c c n ) = c C c £ £ £ £ 3 £ £ £ £',\n",
       " '$ O C 1 n c N C 1 C N C N H 1 ( c c C c c N C C c n = ) ) 3 c c c n N C = c c 1 n C O £ ) £ £ n £ £',\n",
       " '$ C r 1 1 c C c c C 1 c n c c ( ( \\\\ 2 c 3 ) 3 N n c n 4 = c ) 3 c 2 3 ) O 2 O £ c 2 N £ c £ 2 ) £ £',\n",
       " '$ C c C + C c c C ( [ c C - ( - C c c c c 1 N 4 c c c ) - c c c = 4 3 c N c £ £ c c 3 c 1 £ £ £ 1 1',\n",
       " '$ C n 1 c c n c c C [ 1 C / n N ( c C l - c 3 3 c c ) ) c n 1 c c c c ( 2 £ £ o £ ) £ £ £ c 2 1 £ l',\n",
       " '$ C C 1 1 @ 2 c = ( N c N [ C N 1 c c n c F - c ( ( C S 1 c c ) O O c c c O = 2 ) £ £ £ £ £ £ ) £ £',\n",
       " '$ C C C c c C ( c 2 c = ( c 2 H c ( c O n 4 C 3 c 2 C c n C c c ) = c n c £ N c 1 4 £ £ ( £ £ £ £ £',\n",
       " '$ C n 1 C c n c O ( ) c N ( 3 ( c c H c 3 c c ( 3 ) ( c c 3 c ) ) 3 = £ 3 ) c 2 £ £ 1 c £ £ n £ £ £',\n",
       " '$ C = C n c ( ( c c c = ] 1 O 3 c ( C ( ) ) ( c c O c ) n O ) 4 O c ( s ) 2 ) c £ £ C ) £ £ £ £ £ £',\n",
       " '$ N N 1 ( ) N c = 1 C c C ] 2 ) C 2 3 c c c ) - N C 3 n c 3 3 ) ) 4 = ) c c 2 c £ 3 £ £ ] £ £ l 1 £',\n",
       " '$ O = 1 c c = n n - N c ( n N O c c c 2 n c N 2 ( 2 O s c n O N c n c C c 1 £ ( F C 1 1 £ c 1 1 £ £',\n",
       " '$ C C 1 c C N O ) C - c ( c c n 3 ( ( c - ) l c = n c ) = c ) C c 3 O \\\\ c 1 1 [ £ ) 1 = O n ) £ £ £',\n",
       " '$ C O C + ) c c c N c C 1 n 1 c c c ( c n C c c c ) c c c = c c N = = c ) c O 3 ) £ £ c - £ £ £ £ £',\n",
       " '$ O O 1 1 c c c ( C 1 = c O c c 1 c C ] ) c ( l l N 3 n ) ) C ( c c 2 C c £ ) c c c @ 2 £ 3 £ £ £ £',\n",
       " '$ O = O 1 c C ( c O [ C o c ( n 3 1 c ( c C C c c ( = N c C c 4 O 3 c r c 2 C c £ c £ c = £ £ £ £ £',\n",
       " '$ O C C 1 N c 2 ) [ c / n ) c c c C C c ) l c c N c ( c ( 4 ( 3 c c = ( c c 2 c £ c £ £ c £ £ £ £ £',\n",
       " '$ F O C c C = C 1 [ n c ( n n F ) c 2 c n c ( C = c ( c c 3 3 ( 2 ( c c 2 1 c £ ) £ ) ( C 1 £ £ £ £',\n",
       " '$ B C N 1 c c c c 2 c c / c 1 c ( ( n c n c 2 = 3 c ) c - C ) 1 c c c ) c c 3 £ c 1 C £ c c 1 £ £ l',\n",
       " '$ C [ c 1 c c c ) c 1 C ) @ c c c C 1 N ( r c - 1 O c ( - c c n ) C £ C C l c c 1 £ n £ £ c £ £ £ £',\n",
       " '$ N = C 1 N c 1 - c n N C ( ) c ( c ( ( C 3 ) c ) n ] C 1 = c C N ( ] 1 O c c £ c ) £ [ 1 3 c £ £ £',\n",
       " '$ C O c 1 c c ] c c N c C n ( ( c [ N N c 2 3 c c n c ) c O ) n c c c N c c c c 1 £ C c c c £ £ 1 £',\n",
       " '$ C = c n c c c c = n = ( O c c c c ( c ( ) n c ) / ) ( 3 4 C 3 = = = c = ) c £ ) 1 C £ £ £ £ £ £ £',\n",
       " '$ C C C n c c c 1 - C / C = r C c ( n ( 1 c ( = n - c C c 3 n C n £ c O ( c c C £ n £ c £ £ c C £ £',\n",
       " '$ F c C c c H c 2 N c 1 n c 2 c ) ( 1 c c n 4 ) c n c c ) C O ) ) 2 O 1 2 1 1 ) 2 c 2 1 1 c £ £ 2 £',\n",
       " '$ C c 1 1 O C c ( c ) 2 O 3 1 c ] c 3 c - O c = n n 3 ) n c ( \\\\ c O 3 s c c 3 c £ c £ 2 £ £ £ £ £ £',\n",
       " '$ C O c 1 c C c c - 3 n c ] ) c c 1 c = n n ( c ) c ( [ c C c 3 - n ) C c ) c ) £ c c £ £ £ £ 2 £ £',\n",
       " '$ C C C c ) C C n ( c ( c - c C n - - ( 2 C 1 = 2 ( c c c N c C 4 ) 2 N ) c c 1 £ c £ c £ £ £ £ £ £',\n",
       " '$ F = c ( O C C c - - [ N N 2 n n c [ c c H N c c ( c C 2 ( c 3 3 4 2 ) C 1 # c ) £ £ ) c ( £ c £ £',\n",
       " '$ O l 1 C c c 2 ( C 2 C c N c n ( c 3 2 ( N C 3 4 c c 3 ( C 4 = £ c c O C N ) c ) 3 ) = £ £ £ . £ £',\n",
       " 'I C O C c c C c ( O n c o C C ( c \\\\ c c c C - 3 c n c H F n ) 3 O 2 c O c n 2 o 2 N £ £ 2 £ £ £ C £',\n",
       " '$ O O C @ ( c c c ( 2 c 1 c 1 o 2 c ( ( O c C n c n c F n O c c C C O c c l c 3 s £ £ C C £ £ c £ 1',\n",
       " '$ C = C 1 N c c C N c n n c n c ( C ( 1 C ( c c 3 c c C 1 n ) 2 3 = £ 2 O c c ) F £ @ 1 ) 2 £ £ £ £',\n",
       " '$ C = c 1 [ c 1 = - c H c c N C c = O l c N C 3 3 n 3 ] ( ) [ c C 2 c n 1 £ c = N £ £ £ £ c £ £ £ £',\n",
       " '$ O O 1 C 1 ) c ( 2 C n c c c ( 2 n 2 = n H - # 4 n 1 ) O c C = c - c ) c c c c £ F c 2 £ £ £ £ £ £',\n",
       " '$ C c C 1 ( ( C - C C [ ) c c C c 2 3 c n ( C N N 4 3 ( N 1 ) N C O B n ) n C n c £ 1 c 1 £ £ C £ £',\n",
       " '$ C # C 1 C N ( ( ( N ( 2 n c N ( 2 [ ( - O c H c 3 3 c - c ) n c c c 1 ) c n £ 1 c 1 ) O 1 C £ £ £',\n",
       " '$ C C c C c c c 1 n H ( N 2 O c ) N ( c c N l H ( c c c c ( c ) c - O C c = c 1 C ( c £ £ 1 c £ 2 £',\n",
       " '$ C O c ( c ( ( 1 ( c c C n c N c c n c 2 c c c ] ) 3 n c 3 # n ) 2 C 3 n c c @ 1 £ £ C £ £ £ £ £ £',\n",
       " '$ C O c C c c C 2 2 c 1 2 2 c c c c c C H C c 1 C ) 3 ( c c ) ( O c ( N c N £ o ) 1 ( c £ c 2 £ £ £',\n",
       " '$ C [ c c N c 1 ( - c C N ) N 3 c ) 2 3 n 4 c N ( c ) C C c n c 4 c 2 ) - c c ) ) £ c £ £ £ 1 £ £ £',\n",
       " '$ N # c 1 c n c ( ( n C c = - C 2 C 2 c S C c 3 2 ( c c ) ( c [ H = £ 2 ) c c 4 £ C ( £ N O £ 1 2 £',\n",
       " '$ C n [ c c c c = O [ O N ( c c ) c c c c c c C c ) 3 3 2 n ( 2 2 ) ( n 2 1 c n 1 c £ £ £ £ £ c £ £',\n",
       " '$ C = C 1 N n c c c c c N c 2 c c C c c - ] C c 2 C ( c 2 ) ( S c c n r c c £ £ £ n 2 C £ £ £ £ £ £',\n",
       " '$ C O 1 @ c n r c c ) C ( 2 c c 2 c n c c C ( C 4 ) c H n c c 1 = c N C 3 n O c 1 o c £ = ) £ £ 1 1',\n",
       " '$ C C C 1 c c O C = ( [ 2 c 2 c c C 2 3 3 ) 3 3 ( 4 n s c 2 ( - C 2 c ( c c c 4 £ N c £ £ 3 £ £ 1 £',\n",
       " '$ N c C n N c ( c 1 c C c / r o ] c 2 3 c c S C c 2 c n c 1 C 3 c c C 2 n 2 c £ C £ £ ) £ £ £ £ £ £',\n",
       " '$ C # c 1 O - C c [ c 2 C ] c c 1 1 ( c c c c C ) 2 ] ) c 3 - c c S 2 3 O ) £ £ 2 £ £ 2 £ n £ £ £ £',\n",
       " '$ I O C ( c ( 1 C C 1 = C n c n c c C c 2 c c 2 = 2 c ) N O c c c 2 ) c c ) c c £ £ £ c 2 3 n = £ £',\n",
       " '$ O c 1 ( ( c ( 2 c C = ( 3 c C c ( c O c H c ] 1 O C C ( ) c n 2 c n N C n 3 c c C 1 l £ ) n £ 2 £',\n",
       " '$ C # [ c c c ( c C c C ) [ c H 2 S n O c ( / ( 4 - ) ( n c ( c c c ) c c c ( C ) ) £ ( 3 n £ £ £ £',\n",
       " '$ C n C = C C C = [ c ( - C c ( ( n 2 c n N c ( c n ( B = 1 = ] C c 2 2 ] n 3 c ) n £ c £ £ £ ) 2 £',\n",
       " '$ C O c c C c O c C n c n c c 3 ] n = ( l F c C / 3 4 c n c c c ) = c c £ C £ ( 1 £ c £ £ ) c £ £ £',\n",
       " '$ C = ( ( c C ( - [ C C 1 n 2 c c c ( c c 3 C C c c ) - [ 3 c n ) ( ( 3 2 C l = 1 £ c £ ) £ £ ) £ £',\n",
       " '$ O c C 1 N c O ( C n C ) O n c c ( = n c - c 1 / c c ( ) 4 c - 3 N c n 1 ) c c £ 1 £ c £ O s £ c £',\n",
       " '$ C O 1 c N ( ( O c c n C @ 1 - 3 ( - c c c c ) C ( c O 1 n 1 1 ) c ) C 2 O ) 4 c n c n £ 1 c £ 1 1',\n",
       " '$ C n c c N s C c ( c c c c 2 c 1 c C c C ) C 3 O F 4 C c 3 c 1 n 4 ( £ = 3 £ £ c £ c ) O c £ £ £ £',\n",
       " '$ C = C = c C O ( c c = H 1 ) c c c n 1 c 2 c n c n N ( ( c c 2 c 2 2 1 £ 2 £ £ ) c ) £ c C £ £ £ £',\n",
       " '$ C = c = c c n c 1 c C = n c ( - 4 n c c c 1 c c c c c - = 2 c 2 3 c r 1 c £ 2 £ c £ £ £ c £ £ £ £',\n",
       " '$ C O c 1 N c n 1 - c 2 c c 2 2 ] c c c ) n c c 4 ( 4 n c ) c ) c c ) c c 3 c ) @ £ £ C £ £ 1 £ £ £',\n",
       " '$ C O C = c C c ( c O c ( 2 2 3 n ) - - = O ( c O 2 3 c 4 [ ) C 4 c c 3 c = n ) £ £ 2 2 c £ O £ £ £',\n",
       " '$ O O C 1 c c c ( N ) ( 1 ] C C c ( c c 2 N ( ) ) l 3 N ) c O 2 ) 2 c c c 1 ) ) O £ ) £ S £ £ n 2 £',\n",
       " '$ O = C c O C ( C [ = n c c C c ( C - c c c c 3 ( ( n N - ( ( - c S = n C N c ) C 1 C c £ 2 c £ £ £',\n",
       " '$ C O c @ c = c 2 C n C C c 2 c c c 2 C 3 4 ) C c c = n c ] 4 c c = ) c C n 2 c C = 2 £ £ £ £ £ £ £',\n",
       " '$ B [ c 1 c c c c - N c C C o c c c 3 ( c c = c n c 1 c - c N c ( c C n c ) 2 ) C N £ 1 c c ) ) £ £',\n",
       " '$ O = C 1 ( c c c [ c n 1 c ( 3 C c c c [ c c ) O 1 ( c 4 2 c c 2 ( ) ) n N c c C ) 1 c £ £ £ £ £ £',\n",
       " '$ C = C ( c C = 2 ( c C C ) O c - 3 1 l 3 ( c c c n ) n B c c C ) 3 ( C n 2 ) 4 c £ 1 c £ £ £ c £ £',\n",
       " '$ C O c c c C ( n c N c 2 n = n N c n N n n C c 2 c ( c ) n C ) c 2 c 3 1 ) o £ 1 £ 3 £ £ £ £ £ £ £',\n",
       " '$ C O C c ) c F n c 2 ( ( ( c c c c 2 c c 3 - c 3 2 c c n s O ( C O = C £ N £ £ £ c c £ £ 2 £ £ £ £',\n",
       " '$ O n C c N c 2 c c C ( 1 n 3 c c c n 2 c 4 ) c 1 O c 4 1 ) c c c c ( ( ) 1 C c 1 ) £ £ N £ £ £ £ £',\n",
       " '$ C C 1 1 c ( c c 2 ( @ 1 ] c ) c c ( 4 B ) ) c c ) N n c c c c 4 4 c O N C 1 £ ) £ £ £ £ £ n 1 £',\n",
       " '$ C = O @ = c c c N c 3 n c C ( 1 c ( c c ( ] - c 3 c n n 2 N c c n o c 2 n C ) c £ 1 c £ £ C £ £ £',\n",
       " '$ N = C @ c c ( = C c n o ] c n c c c ( ( c N = n O 3 n ) c 4 ( ) [ C c = c ) ( 3 c £ £ ) £ c £ £ £',\n",
       " '$ C c ( 1 c c ( ( - c n C c n c c ( c ( - - n C c n ) ( n 1 ) c l r O c 2 2 C C O ) £ 1 £ O £ £ 1 £',\n",
       " '$ C = 1 ( / c C 2 C c c c c n c c c 3 2 ) - ) c 3 n ( 2 ( ) c ) - c ) c ) C 3 c c ( £ ) 1 = £ £ £ £',\n",
       " '$ O c C [ N c C C N S n ] O c 3 N ( n N 1 c c ( n n c c / C c O O - ) ) ( ) ) 1 1 £ £ C £ £ £ 1 £ £',\n",
       " '$ N n c 1 c n c ) O ( 1 ( ( c n N c n ( C c 3 c + O ] F 3 C c 3 c C ( c O 3 £ £ c £ £ c C £ £ 2 £ £',\n",
       " '$ O = C n O c c 2 [ [ 1 H c ( ( c c 3 ( n ( = C ) N 3 1 n c c c 1 3 c ) c n £ ( £ 1 c £ £ c £ £ £ £']"
      ]
     },
     "execution_count": 433,
     "metadata": {},
     "output_type": "execute_result"
    }
   ],
   "source": [
    "# Generation\n",
    "n_samples = 100\n",
    "samples = Prior_distribution.sample(n_samples)\n",
    "output_distribution = decoder(samples)\n",
    "smiles = tokenizer.sequences_to_texts(output_distribution.sample().numpy())\n",
    "smiles"
   ]
  },
  {
   "cell_type": "code",
   "execution_count": 434,
   "id": "914d8763-124b-4a73-ab09-5e7f9c0fa6e3",
   "metadata": {},
   "outputs": [],
   "source": [
    "from rdkit import Chem\n",
    "def checkSMILES(smiles):\n",
    "\tvalid_smiles = []\n",
    "\tfor smile in smiles:\n",
    "\t\tnew = ''\n",
    "\t\tfor char in smile:\n",
    "\t\t\tif char != '$' and char != '£':\t\n",
    "\t\t\t\tnew += char\n",
    "\n",
    "\t\tif Chem.MolFromSmiles(new, sanitize=False) is not None and len(new) > 15:\n",
    "\t\t\tvalid_smiles.append(new)\n",
    "\t\t\tprint(new)\n",
    "\n",
    "\treturn valid_smiles"
   ]
  },
  {
   "cell_type": "code",
   "execution_count": 435,
   "id": "2d0849de-d245-4cfa-9a76-09766da72fc8",
   "metadata": {},
   "outputs": [
    {
     "name": "stdout",
     "output_type": "stream",
     "text": [
      "I C O C c c C c ( O n c o C C ( c \\ c c c C - 3 c n c H F n ) 3 O 2 c O c n 2 o 2 N   2    C \n"
     ]
    },
    {
     "name": "stderr",
     "output_type": "stream",
     "text": [
      "[16:03:03] SMILES Parse Error: syntax error while parsing: N C C 1 C c c c 2 - C ( n 2 / O c C 2 B ( 3 ( 4 O ( C c n c ) n 1 c 2 ) 2 c  1 ]    ] O .  \n",
      "[16:03:03] SMILES Parse Error: Failed parsing SMILES ' N C C 1 C c c c 2 - C ( n 2 / O c C 2 B ( 3 ( 4 O ( C c n c ) n 1 c 2 ) 2 c  1 ]    ] O .  ' for input: ' N C C 1 C c c c 2 - C ( n 2 / O c C 2 B ( 3 ( 4 O ( C c n c ) n 1 c 2 ) 2 c  1 ]    ] O .  '\n",
      "[16:03:03] SMILES Parse Error: syntax error while parsing: C = c 1 N c c n 1 c H C n n 3 c n c ( c C ( C c O c 3 ) c c c C c c \\ c N ) n C )   3     \n",
      "[16:03:03] SMILES Parse Error: Failed parsing SMILES ' C = c 1 N c c n 1 c H C n n 3 c n c ( c C ( C c O c 3 ) c c c C c c \\ c N ) n C )   3     ' for input: ' C = c 1 N c c n 1 c H C n n 3 c n c ( c C ( C c O c 3 ) c c c C c c \\ c N ) n C )   3     '\n",
      "[16:03:03] SMILES Parse Error: syntax error while parsing: C O C = 1 c C ) O C C c c c c c C C n 2 c c ( c 2 n c 2 c c c O 2 n c )  c c F     C    \n",
      "[16:03:03] SMILES Parse Error: Failed parsing SMILES ' C O C = 1 c C ) O C C c c c c c C C n 2 c c ( c 2 n c 2 c c c O 2 n c )  c c F     C    ' for input: ' C O C = 1 c C ) O C C c c c c c C C n 2 c c ( c 2 n c 2 c c c O 2 n c )  c c F     C    '\n",
      "[16:03:03] SMILES Parse Error: syntax error while parsing: F C c 1 c c 1 c c ) 1 c c ( ) c c c - n F c 4 c I c c c O C c ) ) 2 3 ) ) O c C 4 3 r   c   \n",
      "[16:03:03] SMILES Parse Error: Failed parsing SMILES ' F C c 1 c c 1 c c ) 1 c c ( ) c c c - n F c 4 c I c c c O C c ) ) 2 3 ) ) O c C 4 3 r   c   ' for input: ' F C c 1 c c 1 c c ) 1 c c ( ) c c c - n F c 4 c I c c c O C c ) ) 2 3 ) ) O c C 4 3 r   c   '\n",
      "[16:03:03] SMILES Parse Error: syntax error while parsing: C O c c N c ( 1 O C ( n c c n ( ( n = c ) c C 3 3 3 ( c - c c ) c c ( c 2 = c 1 2 O n  C    1\n",
      "[16:03:03] SMILES Parse Error: Failed parsing SMILES ' C O c c N c ( 1 O C ( n c c n ( ( n = c ) c C 3 3 3 ( c - c c ) c c ( c 2 = c 1 2 O n  C    1' for input: ' C O c c N c ( 1 O C ( n c c n ( ( n = c ) c C 3 3 3 ( c - c c ) c c ( c 2 = c 1 2 O n  C    1'\n",
      "[16:03:03] SMILES Parse Error: syntax error while parsing: C C C 1 = ( - ) O 1 c n N ( ) c 3 c = C c ) ( c ( 3 ) ) ) C c C c ( ( n l c  ) c 2 )  c =  C \n",
      "[16:03:03] SMILES Parse Error: Failed parsing SMILES ' C C C 1 = ( - ) O 1 c n N ( ) c 3 c = C c ) ( c ( 3 ) ) ) C c C c ( ( n l c  ) c 2 )  c =  C ' for input: ' C C C 1 = ( - ) O 1 c n N ( ) c 3 c = C c ) ( c ( 3 ) ) ) C c C c ( ( n l c  ) c 2 )  c =  C '\n",
      "[16:03:03] SMILES Parse Error: syntax error while parsing: C C N c c C c 1 [ C c ] C 2 c = n n c c C c ( ) c n n c 4 c c ) c B ( 1 n 2 O c c c C   C   \n",
      "[16:03:03] SMILES Parse Error: Failed parsing SMILES ' C C N c c C c 1 [ C c ] C 2 c = n n c c C c ( ) c n n c 4 c c ) c B ( 1 n 2 O c c c C   C   ' for input: ' C C N c c C c 1 [ C c ] C 2 c = n n c c C c ( ) c n n c 4 c c ) c B ( 1 n 2 O c c c C   C   '\n",
      "[16:03:03] SMILES Parse Error: syntax error while parsing: C = 1 ( c c ( 2 / c ( 1 n C 3 c c c ( c c ) 2 n c n c c c ) c 1 - n C C 4 O 4  1 C c C 2   O \n",
      "[16:03:03] SMILES Parse Error: Failed parsing SMILES ' C = 1 ( c c ( 2 / c ( 1 n C 3 c c c ( c c ) 2 n c n c c c ) c 1 - n C C 4 O 4  1 C c C 2   O ' for input: ' C = 1 ( c c ( 2 / c ( 1 n C 3 c c c ( c c ) 2 n c n c c c ) c 1 - n C C 4 O 4  1 C c C 2   O '\n",
      "[16:03:03] SMILES Parse Error: syntax error while parsing: C O O C c c 1 n ( c C c n c C 3 c c n N N c c c ( C c ) c \\ c 1 4 c C 1 )  ] ) )   1     \n",
      "[16:03:03] SMILES Parse Error: Failed parsing SMILES ' C O O C c c 1 n ( c C c n c C 3 c c n N N c c c ( C c ) c \\ c 1 4 c C 1 )  ] ) )   1     ' for input: ' C O O C c c 1 n ( c C c n c C 3 c c n N N c c c ( C c ) c \\ c 1 4 c C 1 )  ] ) )   1     '\n",
      "[16:03:03] SMILES Parse Error: syntax error while parsing: C C c c ( c n 1 / 1 n 2 c c n c c 4 ( ) ) c ) n c c ( ) 4 c N C c = C c ) 1 2 C      n O  \n",
      "[16:03:03] SMILES Parse Error: Failed parsing SMILES ' C C c c ( c n 1 / 1 n 2 c c n c c 4 ( ) ) c ) n c c ( ) 4 c N C c = C c ) 1 2 C      n O  ' for input: ' C C c c ( c n 1 / 1 n 2 c c n c c 4 ( ) ) c ) n c c ( ) 4 c N C c = C c ) 1 2 C      n O  '\n",
      "[16:03:03] SMILES Parse Error: syntax error while parsing: C n 1 1 ( 1 1 O C n ( c n 2 c c C 1 ( 3 c n c ( n c ) c n ) C c c c 4 ) ) 1 c ) 1 c 1  c    \n",
      "[16:03:03] SMILES Parse Error: Failed parsing SMILES ' C n 1 1 ( 1 1 O C n ( c n 2 c c C 1 ( 3 c n c ( n c ) c n ) C c c c 4 ) ) 1 c ) 1 c 1  c    ' for input: ' C n 1 1 ( 1 1 O C n ( c n 2 c c C 1 ( 3 c n c ( n c ) c n ) C c c c 4 ) ) 1 c ) 1 c 1  c    '\n",
      "[16:03:03] SMILES Parse Error: syntax error while parsing: C S C ( c ( c ) c c ( \\ c 2 H c c ( c c ( c c ) ( c c n c n N n ) n ) F n C 1 2  c  c  ) =  \n",
      "[16:03:03] SMILES Parse Error: Failed parsing SMILES ' C S C ( c ( c ) c c ( \\ c 2 H c c ( c c ( c c ) ( c c n c n N n ) n ) F n C 1 2  c  c  ) =  ' for input: ' C S C ( c ( c ) c c ( \\ c 2 H c c ( c c ( c c ) ( c c n c n N n ) n ) F n C 1 2  c  c  ) =  '\n",
      "[16:03:03] SMILES Parse Error: syntax error while parsing: O C C n c 1 ) n C 2 ) n c ( c 3 c c ( - c H C [ n ( c ( N C 2 c c C ) c 1 2 C c n        \n",
      "[16:03:03] SMILES Parse Error: Failed parsing SMILES ' O C C n c 1 ) n C 2 ) n c ( c 3 c c ( - c H C [ n ( c ( N C 2 c c C ) c 1 2 C c n        ' for input: ' O C C n c 1 ) n C 2 ) n c ( c 3 c c ( - c H C [ n ( c ( N C 2 c c C ) c 1 2 C c n        '\n",
      "[16:03:03] SMILES Parse Error: syntax error while parsing: C c 1 C C C c c c 2 ( c ( n ( c C ( c ( c c c c 3 ) n c 4 C [ c = c c N c 2 n  3      )  \n",
      "[16:03:03] SMILES Parse Error: Failed parsing SMILES ' C c 1 C C C c c c 2 ( c ( n ( c C ( c ( c c c c 3 ) n c 4 C [ c = c c N c 2 n  3      )  ' for input: ' C c 1 C C C c c c 2 ( c ( n ( c C ( c ( c c c c 3 ) n c 4 C [ c = c c N c 2 n  3      )  '\n",
      "[16:03:03] SMILES Parse Error: syntax error while parsing: O O N C N c 2 ( C 1 ( H c \\ n c F ( c ) - 2 C c ) 3 ( c c ) 3 N 2 n ) C c 1  )   2 N    c \n",
      "[16:03:03] SMILES Parse Error: Failed parsing SMILES ' O O N C N c 2 ( C 1 ( H c \\ n c F ( c ) - 2 C c ) 3 ( c c ) 3 N 2 n ) C c 1  )   2 N    c ' for input: ' O O N C N c 2 ( C 1 ( H c \\ n c F ( c ) - 2 C c ) 3 ( c c ) 3 N 2 n ) C c 1  )   2 N    c '\n",
      "[16:03:03] SMILES Parse Error: syntax error while parsing: N c C 1 c N C c ( c 2 n C c c ] - 2 c c - C 1 n = c c n ( ) n 3 c 4 ) 1 ( c c 1 n O c  l    \n",
      "[16:03:03] SMILES Parse Error: Failed parsing SMILES ' N c C 1 c N C c ( c 2 n C c c ] - 2 c c - C 1 n = c c n ( ) n 3 c 4 ) 1 ( c c 1 n O c  l    ' for input: ' N c C 1 c N C c ( c 2 n C c c ] - 2 c c - C 1 n = c c n ( ) n 3 c 4 ) 1 ( c c 1 n O c  l    '\n",
      "[16:03:03] SMILES Parse Error: syntax error while parsing: C O C 1 c C 1 c N N H 1 c 2 2 [ ( n n c c = ) - c C ) c 4 l l c = c n l C  4  2 c c   c   \n",
      "[16:03:03] SMILES Parse Error: Failed parsing SMILES ' C O C 1 c C 1 c N N H 1 c 2 2 [ ( n n c c = ) - c C ) c 4 l l c = c n l C  4  2 c c   c   ' for input: ' C O C 1 c C 1 c N N H 1 c 2 2 [ ( n n c c = ) - c C ) c 4 l l c = c n l C  4  2 c c   c   '\n",
      "[16:03:03] SMILES Parse Error: syntax error while parsing: 2 O 1 1 N c C F - C ) B c C n ] ( n ( O n 3 N [ c c ) 2 n s ) C c C 4 o n 1 C c 1  c c l   l \n",
      "[16:03:03] SMILES Parse Error: Failed parsing SMILES ' 2 O 1 1 N c C F - C ) B c C n ] ( n ( O n 3 N [ c c ) 2 n s ) C c C 4 o n 1 C c 1  c c l   l ' for input: ' 2 O 1 1 N c C F - C ) B c C n ] ( n ( O n 3 N [ c c ) 2 n s ) C c C 4 o n 1 C c 1  c c l   l '\n",
      "[16:03:03] SMILES Parse Error: syntax error while parsing: O n = ( @ c ] = c 1 [ c ) H 3 1 n C ( ) n c c c 2 3 o c c n c 2 N c c n c c 1 1 1 C c      \n",
      "[16:03:03] SMILES Parse Error: Failed parsing SMILES ' O n = ( @ c ] = c 1 [ c ) H 3 1 n C ( ) n c c c 2 3 o c c n c 2 N c c n c c 1 1 1 C c      ' for input: ' O n = ( @ c ] = c 1 [ c ) H 3 1 n C ( ) n c c c 2 3 o c c n c 2 N c c n c c 1 1 1 C c      '\n",
      "[16:03:03] SMILES Parse Error: syntax error while parsing: C C c c c ] c ( n c 2 H 3 c ( 1 = = l ( 1 n c c c c 5 1 3 ) ) c c c ) ) O c ) ) )   3  )   \n",
      "[16:03:03] SMILES Parse Error: Failed parsing SMILES ' C C c c c ] c ( n c 2 H 3 c ( 1 = = l ( 1 n c c c c 5 1 3 ) ) c c c ) ) O c ) ) )   3  )   ' for input: ' C C c c c ] c ( n c 2 H 3 c ( 1 = = l ( 1 n c c c c 5 1 3 ) ) c c c ) ) O c ) ) )   3  )   '\n",
      "[16:03:03] SMILES Parse Error: syntax error while parsing: C = C = N c c 1 c c = C c ( O ( c c ( c n c ( ( 2 c ) c c c C ( c ) O 2 2 c N      3 c   \n",
      "[16:03:03] SMILES Parse Error: Failed parsing SMILES ' C = C = N c c 1 c c = C c ( O ( c c ( c n c ( ( 2 c ) c c c C ( c ) O 2 2 c N      3 c   ' for input: ' C = C = N c c 1 c c = C c ( O ( c c ( c n c ( ( 2 c ) c c c C ( c ) O 2 2 c N      3 c   '\n",
      "[16:03:03] SMILES Parse Error: syntax error while parsing: C 1 ( C c O c = [ C ( ( 1 ( C 3 n 2 ( N ( c c 4 c ) c [ c = ) F ( O 2 ] ) 1 c N 1 C C   O  c \n",
      "[16:03:03] SMILES Parse Error: Failed parsing SMILES ' C 1 ( C c O c = [ C ( ( 1 ( C 3 n 2 ( N ( c c 4 c ) c [ c = ) F ( O 2 ] ) 1 c N 1 C C   O  c ' for input: ' C 1 ( C c O c = [ C ( ( 1 ( C 3 n 2 ( N ( c c 4 c ) c [ c = ) F ( O 2 ] ) 1 c N 1 C C   O  c '\n",
      "[16:03:03] SMILES Parse Error: syntax error while parsing: C O C 1 N N = c n ( = ( [ F c [ ( c c 3 2 l c C c 2 ( c O 3 H ) C  c ) ) 3  C  2  s ) c   \n",
      "[16:03:03] SMILES Parse Error: Failed parsing SMILES ' C O C 1 N N = c n ( = ( [ F c [ ( c c 3 2 l c C c 2 ( c O 3 H ) C  c ) ) 3  C  2  s ) c   ' for input: ' C O C 1 N N = c n ( = ( [ F c [ ( c c 3 2 l c C c 2 ( c O 3 H ) C  c ) ) 3  C  2  s ) c   '\n",
      "[16:03:03] SMILES Parse Error: syntax error while parsing: O [ 1 1 = ) c c O N 1 C N c 2 ) ) - S C ( ( F 2 c 4 ( ) 2 / C ) c c n ) = c C c     3    \n",
      "[16:03:03] SMILES Parse Error: Failed parsing SMILES ' O [ 1 1 = ) c c O N 1 C N c 2 ) ) - S C ( ( F 2 c 4 ( ) 2 / C ) c c n ) = c C c     3    ' for input: ' O [ 1 1 = ) c c O N 1 C N c 2 ) ) - S C ( ( F 2 c 4 ( ) 2 / C ) c c n ) = c C c     3    '\n",
      "[16:03:03] SMILES Parse Error: syntax error while parsing: O C 1 n c N C 1 C N C N H 1 ( c c C c c N C C c n = ) ) 3 c c c n N C = c c 1 n C O  )   n  \n",
      "[16:03:03] SMILES Parse Error: Failed parsing SMILES ' O C 1 n c N C 1 C N C N H 1 ( c c C c c N C C c n = ) ) 3 c c c n N C = c c 1 n C O  )   n  ' for input: ' O C 1 n c N C 1 C N C N H 1 ( c c C c c N C C c n = ) ) 3 c c c n N C = c c 1 n C O  )   n  '\n",
      "[16:03:03] SMILES Parse Error: syntax error while parsing: C r 1 1 c C c c C 1 c n c c ( ( \\ 2 c 3 ) 3 N n c n 4 = c ) 3 c 2 3 ) O 2 O  c 2 N  c  2 )  \n",
      "[16:03:03] SMILES Parse Error: Failed parsing SMILES ' C r 1 1 c C c c C 1 c n c c ( ( \\ 2 c 3 ) 3 N n c n 4 = c ) 3 c 2 3 ) O 2 O  c 2 N  c  2 )  ' for input: ' C r 1 1 c C c c C 1 c n c c ( ( \\ 2 c 3 ) 3 N n c n 4 = c ) 3 c 2 3 ) O 2 O  c 2 N  c  2 )  '\n",
      "[16:03:03] SMILES Parse Error: syntax error while parsing: C c C + C c c C ( [ c C - ( - C c c c c 1 N 4 c c c ) - c c c = 4 3 c N c   c c 3 c 1    1 1\n",
      "[16:03:03] SMILES Parse Error: Failed parsing SMILES ' C c C + C c c C ( [ c C - ( - C c c c c 1 N 4 c c c ) - c c c = 4 3 c N c   c c 3 c 1    1 1' for input: ' C c C + C c c C ( [ c C - ( - C c c c c 1 N 4 c c c ) - c c c = 4 3 c N c   c c 3 c 1    1 1'\n",
      "[16:03:03] SMILES Parse Error: syntax error while parsing: C n 1 c c n c c C [ 1 C / n N ( c C l - c 3 3 c c ) ) c n 1 c c c c ( 2   o  )    c 2 1  l\n",
      "[16:03:03] SMILES Parse Error: Failed parsing SMILES ' C n 1 c c n c c C [ 1 C / n N ( c C l - c 3 3 c c ) ) c n 1 c c c c ( 2   o  )    c 2 1  l' for input: ' C n 1 c c n c c C [ 1 C / n N ( c C l - c 3 3 c c ) ) c n 1 c c c c ( 2   o  )    c 2 1  l'\n",
      "[16:03:03] SMILES Parse Error: syntax error while parsing: C C 1 1 @ 2 c = ( N c N [ C N 1 c c n c F - c ( ( C S 1 c c ) O O c c c O = 2 )       )  \n",
      "[16:03:03] SMILES Parse Error: Failed parsing SMILES ' C C 1 1 @ 2 c = ( N c N [ C N 1 c c n c F - c ( ( C S 1 c c ) O O c c c O = 2 )       )  ' for input: ' C C 1 1 @ 2 c = ( N c N [ C N 1 c c n c F - c ( ( C S 1 c c ) O O c c c O = 2 )       )  '\n",
      "[16:03:03] SMILES Parse Error: syntax error while parsing: C C C c c C ( c 2 c = ( c 2 H c ( c O n 4 C 3 c 2 C c n C c c ) = c n c  N c 1 4   (     \n",
      "[16:03:03] SMILES Parse Error: Failed parsing SMILES ' C C C c c C ( c 2 c = ( c 2 H c ( c O n 4 C 3 c 2 C c n C c c ) = c n c  N c 1 4   (     ' for input: ' C C C c c C ( c 2 c = ( c 2 H c ( c O n 4 C 3 c 2 C c n C c c ) = c n c  N c 1 4   (     '\n",
      "[16:03:03] SMILES Parse Error: syntax error while parsing: C n 1 C c n c O ( ) c N ( 3 ( c c H c 3 c c ( 3 ) ( c c 3 c ) ) 3 =  3 ) c 2   1 c   n   \n",
      "[16:03:03] SMILES Parse Error: Failed parsing SMILES ' C n 1 C c n c O ( ) c N ( 3 ( c c H c 3 c c ( 3 ) ( c c 3 c ) ) 3 =  3 ) c 2   1 c   n   ' for input: ' C n 1 C c n c O ( ) c N ( 3 ( c c H c 3 c c ( 3 ) ( c c 3 c ) ) 3 =  3 ) c 2   1 c   n   '\n",
      "[16:03:03] SMILES Parse Error: syntax error while parsing: C = C n c ( ( c c c = ] 1 O 3 c ( C ( ) ) ( c c O c ) n O ) 4 O c ( s ) 2 ) c   C )      \n",
      "[16:03:03] SMILES Parse Error: Failed parsing SMILES ' C = C n c ( ( c c c = ] 1 O 3 c ( C ( ) ) ( c c O c ) n O ) 4 O c ( s ) 2 ) c   C )      ' for input: ' C = C n c ( ( c c c = ] 1 O 3 c ( C ( ) ) ( c c O c ) n O ) 4 O c ( s ) 2 ) c   C )      '\n",
      "[16:03:03] SMILES Parse Error: syntax error while parsing: N N 1 ( ) N c = 1 C c C ] 2 ) C 2 3 c c c ) - N C 3 n c 3 3 ) ) 4 = ) c c 2 c  3   ]   l 1 \n",
      "[16:03:03] SMILES Parse Error: Failed parsing SMILES ' N N 1 ( ) N c = 1 C c C ] 2 ) C 2 3 c c c ) - N C 3 n c 3 3 ) ) 4 = ) c c 2 c  3   ]   l 1 ' for input: ' N N 1 ( ) N c = 1 C c C ] 2 ) C 2 3 c c c ) - N C 3 n c 3 3 ) ) 4 = ) c c 2 c  3   ]   l 1 '\n",
      "[16:03:03] SMILES Parse Error: syntax error while parsing: O = 1 c c = n n - N c ( n N O c c c 2 n c N 2 ( 2 O s c n O N c n c C c 1  ( F C 1 1  c 1 1  \n",
      "[16:03:03] SMILES Parse Error: Failed parsing SMILES ' O = 1 c c = n n - N c ( n N O c c c 2 n c N 2 ( 2 O s c n O N c n c C c 1  ( F C 1 1  c 1 1  ' for input: ' O = 1 c c = n n - N c ( n N O c c c 2 n c N 2 ( 2 O s c n O N c n c C c 1  ( F C 1 1  c 1 1  '\n",
      "[16:03:03] SMILES Parse Error: syntax error while parsing: C C 1 c C N O ) C - c ( c c n 3 ( ( c - ) l c = n c ) = c ) C c 3 O \\ c 1 1 [  ) 1 = O n )   \n",
      "[16:03:03] SMILES Parse Error: Failed parsing SMILES ' C C 1 c C N O ) C - c ( c c n 3 ( ( c - ) l c = n c ) = c ) C c 3 O \\ c 1 1 [  ) 1 = O n )   ' for input: ' C C 1 c C N O ) C - c ( c c n 3 ( ( c - ) l c = n c ) = c ) C c 3 O \\ c 1 1 [  ) 1 = O n )   '\n",
      "[16:03:03] SMILES Parse Error: syntax error while parsing: C O C + ) c c c N c C 1 n 1 c c c ( c n C c c c ) c c c = c c N = = c ) c O 3 )   c -     \n",
      "[16:03:03] SMILES Parse Error: Failed parsing SMILES ' C O C + ) c c c N c C 1 n 1 c c c ( c n C c c c ) c c c = c c N = = c ) c O 3 )   c -     ' for input: ' C O C + ) c c c N c C 1 n 1 c c c ( c n C c c c ) c c c = c c N = = c ) c O 3 )   c -     '\n",
      "[16:03:03] SMILES Parse Error: syntax error while parsing: O O 1 1 c c c ( C 1 = c O c c 1 c C ] ) c ( l l N 3 n ) ) C ( c c 2 C c  ) c c c @ 2  3    \n",
      "[16:03:03] SMILES Parse Error: Failed parsing SMILES ' O O 1 1 c c c ( C 1 = c O c c 1 c C ] ) c ( l l N 3 n ) ) C ( c c 2 C c  ) c c c @ 2  3    ' for input: ' O O 1 1 c c c ( C 1 = c O c c 1 c C ] ) c ( l l N 3 n ) ) C ( c c 2 C c  ) c c c @ 2  3    '\n",
      "[16:03:03] SMILES Parse Error: syntax error while parsing: O = O 1 c C ( c O [ C o c ( n 3 1 c ( c C C c c ( = N c C c 4 O 3 c r c 2 C c  c  c =     \n",
      "[16:03:03] SMILES Parse Error: Failed parsing SMILES ' O = O 1 c C ( c O [ C o c ( n 3 1 c ( c C C c c ( = N c C c 4 O 3 c r c 2 C c  c  c =     ' for input: ' O = O 1 c C ( c O [ C o c ( n 3 1 c ( c C C c c ( = N c C c 4 O 3 c r c 2 C c  c  c =     '\n",
      "[16:03:03] SMILES Parse Error: syntax error while parsing: O C C 1 N c 2 ) [ c / n ) c c c C C c ) l c c N c ( c ( 4 ( 3 c c = ( c c 2 c  c   c     \n",
      "[16:03:03] SMILES Parse Error: Failed parsing SMILES ' O C C 1 N c 2 ) [ c / n ) c c c C C c ) l c c N c ( c ( 4 ( 3 c c = ( c c 2 c  c   c     ' for input: ' O C C 1 N c 2 ) [ c / n ) c c c C C c ) l c c N c ( c ( 4 ( 3 c c = ( c c 2 c  c   c     '\n",
      "[16:03:03] SMILES Parse Error: syntax error while parsing: F O C c C = C 1 [ n c ( n n F ) c 2 c n c ( C = c ( c c 3 3 ( 2 ( c c 2 1 c  )  ) ( C 1    \n",
      "[16:03:03] SMILES Parse Error: Failed parsing SMILES ' F O C c C = C 1 [ n c ( n n F ) c 2 c n c ( C = c ( c c 3 3 ( 2 ( c c 2 1 c  )  ) ( C 1    ' for input: ' F O C c C = C 1 [ n c ( n n F ) c 2 c n c ( C = c ( c c 3 3 ( 2 ( c c 2 1 c  )  ) ( C 1    '\n",
      "[16:03:03] SMILES Parse Error: syntax error while parsing: B C N 1 c c c c 2 c c / c 1 c ( ( n c n c 2 = 3 c ) c - C ) 1 c c c ) c c 3  c 1 C  c c 1   l\n",
      "[16:03:03] SMILES Parse Error: Failed parsing SMILES ' B C N 1 c c c c 2 c c / c 1 c ( ( n c n c 2 = 3 c ) c - C ) 1 c c c ) c c 3  c 1 C  c c 1   l' for input: ' B C N 1 c c c c 2 c c / c 1 c ( ( n c n c 2 = 3 c ) c - C ) 1 c c c ) c c 3  c 1 C  c c 1   l'\n",
      "[16:03:03] SMILES Parse Error: syntax error while parsing: C [ c 1 c c c ) c 1 C ) @ c c c C 1 N ( r c - 1 O c ( - c c n ) C  C C l c c 1  n   c    \n",
      "[16:03:03] SMILES Parse Error: Failed parsing SMILES ' C [ c 1 c c c ) c 1 C ) @ c c c C 1 N ( r c - 1 O c ( - c c n ) C  C C l c c 1  n   c    ' for input: ' C [ c 1 c c c ) c 1 C ) @ c c c C 1 N ( r c - 1 O c ( - c c n ) C  C C l c c 1  n   c    '\n",
      "[16:03:03] SMILES Parse Error: syntax error while parsing: N = C 1 N c 1 - c n N C ( ) c ( c ( ( C 3 ) c ) n ] C 1 = c C N ( ] 1 O c c  c )  [ 1 3 c   \n",
      "[16:03:03] SMILES Parse Error: Failed parsing SMILES ' N = C 1 N c 1 - c n N C ( ) c ( c ( ( C 3 ) c ) n ] C 1 = c C N ( ] 1 O c c  c )  [ 1 3 c   ' for input: ' N = C 1 N c 1 - c n N C ( ) c ( c ( ( C 3 ) c ) n ] C 1 = c C N ( ] 1 O c c  c )  [ 1 3 c   '\n",
      "[16:03:03] SMILES Parse Error: syntax error while parsing: C O c 1 c c ] c c N c C n ( ( c [ N N c 2 3 c c n c ) c O ) n c c c N c c c c 1  C c c c   1 \n",
      "[16:03:03] SMILES Parse Error: Failed parsing SMILES ' C O c 1 c c ] c c N c C n ( ( c [ N N c 2 3 c c n c ) c O ) n c c c N c c c c 1  C c c c   1 ' for input: ' C O c 1 c c ] c c N c C n ( ( c [ N N c 2 3 c c n c ) c O ) n c c c N c c c c 1  C c c c   1 '\n",
      "[16:03:03] SMILES Parse Error: syntax error while parsing: C = c n c c c c = n = ( O c c c c ( c ( ) n c ) / ) ( 3 4 C 3 = = = c = ) c  ) 1 C       \n",
      "[16:03:03] SMILES Parse Error: Failed parsing SMILES ' C = c n c c c c = n = ( O c c c c ( c ( ) n c ) / ) ( 3 4 C 3 = = = c = ) c  ) 1 C       ' for input: ' C = c n c c c c = n = ( O c c c c ( c ( ) n c ) / ) ( 3 4 C 3 = = = c = ) c  ) 1 C       '\n",
      "[16:03:03] SMILES Parse Error: syntax error while parsing: C C C n c c c 1 - C / C = r C c ( n ( 1 c ( = n - c C c 3 n C n  c O ( c c C  n  c   c C  \n",
      "[16:03:03] SMILES Parse Error: Failed parsing SMILES ' C C C n c c c 1 - C / C = r C c ( n ( 1 c ( = n - c C c 3 n C n  c O ( c c C  n  c   c C  ' for input: ' C C C n c c c 1 - C / C = r C c ( n ( 1 c ( = n - c C c 3 n C n  c O ( c c C  n  c   c C  '\n",
      "[16:03:03] SMILES Parse Error: syntax error while parsing: F c C c c H c 2 N c 1 n c 2 c ) ( 1 c c n 4 ) c n c c ) C O ) ) 2 O 1 2 1 1 ) 2 c 2 1 1 c   2 \n",
      "[16:03:03] SMILES Parse Error: Failed parsing SMILES ' F c C c c H c 2 N c 1 n c 2 c ) ( 1 c c n 4 ) c n c c ) C O ) ) 2 O 1 2 1 1 ) 2 c 2 1 1 c   2 ' for input: ' F c C c c H c 2 N c 1 n c 2 c ) ( 1 c c n 4 ) c n c c ) C O ) ) 2 O 1 2 1 1 ) 2 c 2 1 1 c   2 '\n",
      "[16:03:03] SMILES Parse Error: syntax error while parsing: C c 1 1 O C c ( c ) 2 O 3 1 c ] c 3 c - O c = n n 3 ) n c ( \\ c O 3 s c c 3 c  c  2      \n",
      "[16:03:03] SMILES Parse Error: Failed parsing SMILES ' C c 1 1 O C c ( c ) 2 O 3 1 c ] c 3 c - O c = n n 3 ) n c ( \\ c O 3 s c c 3 c  c  2      ' for input: ' C c 1 1 O C c ( c ) 2 O 3 1 c ] c 3 c - O c = n n 3 ) n c ( \\ c O 3 s c c 3 c  c  2      '\n",
      "[16:03:03] SMILES Parse Error: syntax error while parsing: C O c 1 c C c c - 3 n c ] ) c c 1 c = n n ( c ) c ( [ c C c 3 - n ) C c ) c )  c c     2  \n",
      "[16:03:03] SMILES Parse Error: Failed parsing SMILES ' C O c 1 c C c c - 3 n c ] ) c c 1 c = n n ( c ) c ( [ c C c 3 - n ) C c ) c )  c c     2  ' for input: ' C O c 1 c C c c - 3 n c ] ) c c 1 c = n n ( c ) c ( [ c C c 3 - n ) C c ) c )  c c     2  '\n",
      "[16:03:03] SMILES Parse Error: syntax error while parsing: C C C c ) C C n ( c ( c - c C n - - ( 2 C 1 = 2 ( c c c N c C 4 ) 2 N ) c c 1  c  c      \n",
      "[16:03:03] SMILES Parse Error: Failed parsing SMILES ' C C C c ) C C n ( c ( c - c C n - - ( 2 C 1 = 2 ( c c c N c C 4 ) 2 N ) c c 1  c  c      ' for input: ' C C C c ) C C n ( c ( c - c C n - - ( 2 C 1 = 2 ( c c c N c C 4 ) 2 N ) c c 1  c  c      '\n",
      "[16:03:03] SMILES Parse Error: syntax error while parsing: F = c ( O C C c - - [ N N 2 n n c [ c c H N c c ( c C 2 ( c 3 3 4 2 ) C 1 # c )   ) c (  c  \n",
      "[16:03:03] SMILES Parse Error: Failed parsing SMILES ' F = c ( O C C c - - [ N N 2 n n c [ c c H N c c ( c C 2 ( c 3 3 4 2 ) C 1 # c )   ) c (  c  ' for input: ' F = c ( O C C c - - [ N N 2 n n c [ c c H N c c ( c C 2 ( c 3 3 4 2 ) C 1 # c )   ) c (  c  '\n",
      "[16:03:03] SMILES Parse Error: syntax error while parsing: O l 1 C c c 2 ( C 2 C c N c n ( c 3 2 ( N C 3 4 c c 3 ( C 4 =  c c O C N ) c ) 3 ) =    .  \n",
      "[16:03:03] SMILES Parse Error: Failed parsing SMILES ' O l 1 C c c 2 ( C 2 C c N c n ( c 3 2 ( N C 3 4 c c 3 ( C 4 =  c c O C N ) c ) 3 ) =    .  ' for input: ' O l 1 C c c 2 ( C 2 C c N c n ( c 3 2 ( N C 3 4 c c 3 ( C 4 =  c c O C N ) c ) 3 ) =    .  '\n",
      "[16:03:03] SMILES Parse Error: syntax error while parsing: O O C @ ( c c c ( 2 c 1 c 1 o 2 c ( ( O c C n c n c F n O c c C C O c c l c 3 s   C C   c  1\n",
      "[16:03:03] SMILES Parse Error: Failed parsing SMILES ' O O C @ ( c c c ( 2 c 1 c 1 o 2 c ( ( O c C n c n c F n O c c C C O c c l c 3 s   C C   c  1' for input: ' O O C @ ( c c c ( 2 c 1 c 1 o 2 c ( ( O c C n c n c F n O c c C C O c c l c 3 s   C C   c  1'\n",
      "[16:03:03] SMILES Parse Error: syntax error while parsing: C = C 1 N c c C N c n n c n c ( C ( 1 C ( c c 3 c c C 1 n ) 2 3 =  2 O c c ) F  @ 1 ) 2    \n",
      "[16:03:03] SMILES Parse Error: Failed parsing SMILES ' C = C 1 N c c C N c n n c n c ( C ( 1 C ( c c 3 c c C 1 n ) 2 3 =  2 O c c ) F  @ 1 ) 2    ' for input: ' C = C 1 N c c C N c n n c n c ( C ( 1 C ( c c 3 c c C 1 n ) 2 3 =  2 O c c ) F  @ 1 ) 2    '\n",
      "[16:03:03] SMILES Parse Error: syntax error while parsing: C = c 1 [ c 1 = - c H c c N C c = O l c N C 3 3 n 3 ] ( ) [ c C 2 c n 1  c = N     c    \n",
      "[16:03:03] SMILES Parse Error: Failed parsing SMILES ' C = c 1 [ c 1 = - c H c c N C c = O l c N C 3 3 n 3 ] ( ) [ c C 2 c n 1  c = N     c    ' for input: ' C = c 1 [ c 1 = - c H c c N C c = O l c N C 3 3 n 3 ] ( ) [ c C 2 c n 1  c = N     c    '\n",
      "[16:03:03] SMILES Parse Error: syntax error while parsing: O O 1 C 1 ) c ( 2 C n c c c ( 2 n 2 = n H - # 4 n 1 ) O c C = c - c ) c c c c  F c 2      \n",
      "[16:03:03] SMILES Parse Error: Failed parsing SMILES ' O O 1 C 1 ) c ( 2 C n c c c ( 2 n 2 = n H - # 4 n 1 ) O c C = c - c ) c c c c  F c 2      ' for input: ' O O 1 C 1 ) c ( 2 C n c c c ( 2 n 2 = n H - # 4 n 1 ) O c C = c - c ) c c c c  F c 2      '\n",
      "[16:03:03] SMILES Parse Error: syntax error while parsing: C c C 1 ( ( C - C C [ ) c c C c 2 3 c n ( C N N 4 3 ( N 1 ) N C O B n ) n C n c  1 c 1   C  \n",
      "[16:03:03] SMILES Parse Error: Failed parsing SMILES ' C c C 1 ( ( C - C C [ ) c c C c 2 3 c n ( C N N 4 3 ( N 1 ) N C O B n ) n C n c  1 c 1   C  ' for input: ' C c C 1 ( ( C - C C [ ) c c C c 2 3 c n ( C N N 4 3 ( N 1 ) N C O B n ) n C n c  1 c 1   C  '\n",
      "[16:03:03] SMILES Parse Error: syntax error while parsing: C # C 1 C N ( ( ( N ( 2 n c N ( 2 [ ( - O c H c 3 3 c - c ) n c c c 1 ) c n  1 c 1 ) O 1 C   \n",
      "[16:03:03] SMILES Parse Error: Failed parsing SMILES ' C # C 1 C N ( ( ( N ( 2 n c N ( 2 [ ( - O c H c 3 3 c - c ) n c c c 1 ) c n  1 c 1 ) O 1 C   ' for input: ' C # C 1 C N ( ( ( N ( 2 n c N ( 2 [ ( - O c H c 3 3 c - c ) n c c c 1 ) c n  1 c 1 ) O 1 C   '\n",
      "[16:03:03] SMILES Parse Error: syntax error while parsing: C C c C c c c 1 n H ( N 2 O c ) N ( c c N l H ( c c c c ( c ) c - O C c = c 1 C ( c   1 c  2 \n",
      "[16:03:03] SMILES Parse Error: Failed parsing SMILES ' C C c C c c c 1 n H ( N 2 O c ) N ( c c N l H ( c c c c ( c ) c - O C c = c 1 C ( c   1 c  2 ' for input: ' C C c C c c c 1 n H ( N 2 O c ) N ( c c N l H ( c c c c ( c ) c - O C c = c 1 C ( c   1 c  2 '\n",
      "[16:03:03] SMILES Parse Error: syntax error while parsing: C O c ( c ( ( 1 ( c c C n c N c c n c 2 c c c ] ) 3 n c 3 # n ) 2 C 3 n c c @ 1   C      \n",
      "[16:03:03] SMILES Parse Error: Failed parsing SMILES ' C O c ( c ( ( 1 ( c c C n c N c c n c 2 c c c ] ) 3 n c 3 # n ) 2 C 3 n c c @ 1   C      ' for input: ' C O c ( c ( ( 1 ( c c C n c N c c n c 2 c c c ] ) 3 n c 3 # n ) 2 C 3 n c c @ 1   C      '\n",
      "[16:03:03] SMILES Parse Error: syntax error while parsing: C O c C c c C 2 2 c 1 2 2 c c c c c C H C c 1 C ) 3 ( c c ) ( O c ( N c N  o ) 1 ( c  c 2   \n",
      "[16:03:03] SMILES Parse Error: Failed parsing SMILES ' C O c C c c C 2 2 c 1 2 2 c c c c c C H C c 1 C ) 3 ( c c ) ( O c ( N c N  o ) 1 ( c  c 2   ' for input: ' C O c C c c C 2 2 c 1 2 2 c c c c c C H C c 1 C ) 3 ( c c ) ( O c ( N c N  o ) 1 ( c  c 2   '\n",
      "[16:03:03] SMILES Parse Error: syntax error while parsing: C [ c c N c 1 ( - c C N ) N 3 c ) 2 3 n 4 c N ( c ) C C c n c 4 c 2 ) - c c ) )  c    1   \n",
      "[16:03:03] SMILES Parse Error: Failed parsing SMILES ' C [ c c N c 1 ( - c C N ) N 3 c ) 2 3 n 4 c N ( c ) C C c n c 4 c 2 ) - c c ) )  c    1   ' for input: ' C [ c c N c 1 ( - c C N ) N 3 c ) 2 3 n 4 c N ( c ) C C c n c 4 c 2 ) - c c ) )  c    1   '\n",
      "[16:03:03] SMILES Parse Error: syntax error while parsing: N # c 1 c n c ( ( n C c = - C 2 C 2 c S C c 3 2 ( c c ) ( c [ H =  2 ) c c 4  C (  N O  1 2 \n",
      "[16:03:03] SMILES Parse Error: Failed parsing SMILES ' N # c 1 c n c ( ( n C c = - C 2 C 2 c S C c 3 2 ( c c ) ( c [ H =  2 ) c c 4  C (  N O  1 2 ' for input: ' N # c 1 c n c ( ( n C c = - C 2 C 2 c S C c 3 2 ( c c ) ( c [ H =  2 ) c c 4  C (  N O  1 2 '\n",
      "[16:03:03] SMILES Parse Error: syntax error while parsing: C n [ c c c c = O [ O N ( c c ) c c c c c c C c ) 3 3 2 n ( 2 2 ) ( n 2 1 c n 1 c      c  \n",
      "[16:03:03] SMILES Parse Error: Failed parsing SMILES ' C n [ c c c c = O [ O N ( c c ) c c c c c c C c ) 3 3 2 n ( 2 2 ) ( n 2 1 c n 1 c      c  ' for input: ' C n [ c c c c = O [ O N ( c c ) c c c c c c C c ) 3 3 2 n ( 2 2 ) ( n 2 1 c n 1 c      c  '\n",
      "[16:03:03] SMILES Parse Error: syntax error while parsing: C = C 1 N n c c c c c N c 2 c c C c c - ] C c 2 C ( c 2 ) ( S c c n r c c    n 2 C      \n",
      "[16:03:03] SMILES Parse Error: Failed parsing SMILES ' C = C 1 N n c c c c c N c 2 c c C c c - ] C c 2 C ( c 2 ) ( S c c n r c c    n 2 C      ' for input: ' C = C 1 N n c c c c c N c 2 c c C c c - ] C c 2 C ( c 2 ) ( S c c n r c c    n 2 C      '\n",
      "[16:03:03] SMILES Parse Error: syntax error while parsing: C O 1 @ c n r c c ) C ( 2 c c 2 c n c c C ( C 4 ) c H n c c 1 = c N C 3 n O c 1 o c  = )   1 1\n",
      "[16:03:03] SMILES Parse Error: Failed parsing SMILES ' C O 1 @ c n r c c ) C ( 2 c c 2 c n c c C ( C 4 ) c H n c c 1 = c N C 3 n O c 1 o c  = )   1 1' for input: ' C O 1 @ c n r c c ) C ( 2 c c 2 c n c c C ( C 4 ) c H n c c 1 = c N C 3 n O c 1 o c  = )   1 1'\n",
      "[16:03:03] SMILES Parse Error: syntax error while parsing: C C C 1 c c O C = ( [ 2 c 2 c c C 2 3 3 ) 3 3 ( 4 n s c 2 ( - C 2 c ( c c c 4  N c   3   1 \n",
      "[16:03:03] SMILES Parse Error: Failed parsing SMILES ' C C C 1 c c O C = ( [ 2 c 2 c c C 2 3 3 ) 3 3 ( 4 n s c 2 ( - C 2 c ( c c c 4  N c   3   1 ' for input: ' C C C 1 c c O C = ( [ 2 c 2 c c C 2 3 3 ) 3 3 ( 4 n s c 2 ( - C 2 c ( c c c 4  N c   3   1 '\n",
      "[16:03:03] SMILES Parse Error: syntax error while parsing: N c C n N c ( c 1 c C c / r o ] c 2 3 c c S C c 2 c n c 1 C 3 c c C 2 n 2 c  C   )      \n",
      "[16:03:03] SMILES Parse Error: Failed parsing SMILES ' N c C n N c ( c 1 c C c / r o ] c 2 3 c c S C c 2 c n c 1 C 3 c c C 2 n 2 c  C   )      ' for input: ' N c C n N c ( c 1 c C c / r o ] c 2 3 c c S C c 2 c n c 1 C 3 c c C 2 n 2 c  C   )      '\n",
      "[16:03:03] SMILES Parse Error: syntax error while parsing: C # c 1 O - C c [ c 2 C ] c c 1 1 ( c c c c C ) 2 ] ) c 3 - c c S 2 3 O )   2   2  n    \n",
      "[16:03:03] SMILES Parse Error: Failed parsing SMILES ' C # c 1 O - C c [ c 2 C ] c c 1 1 ( c c c c C ) 2 ] ) c 3 - c c S 2 3 O )   2   2  n    ' for input: ' C # c 1 O - C c [ c 2 C ] c c 1 1 ( c c c c C ) 2 ] ) c 3 - c c S 2 3 O )   2   2  n    '\n",
      "[16:03:03] SMILES Parse Error: syntax error while parsing: I O C ( c ( 1 C C 1 = C n c n c c C c 2 c c 2 = 2 c ) N O c c c 2 ) c c ) c c    c 2 3 n =  \n",
      "[16:03:03] SMILES Parse Error: Failed parsing SMILES ' I O C ( c ( 1 C C 1 = C n c n c c C c 2 c c 2 = 2 c ) N O c c c 2 ) c c ) c c    c 2 3 n =  ' for input: ' I O C ( c ( 1 C C 1 = C n c n c c C c 2 c c 2 = 2 c ) N O c c c 2 ) c c ) c c    c 2 3 n =  '\n",
      "[16:03:03] SMILES Parse Error: syntax error while parsing: O c 1 ( ( c ( 2 c C = ( 3 c C c ( c O c H c ] 1 O C C ( ) c n 2 c n N C n 3 c c C 1 l  ) n  2 \n",
      "[16:03:03] SMILES Parse Error: Failed parsing SMILES ' O c 1 ( ( c ( 2 c C = ( 3 c C c ( c O c H c ] 1 O C C ( ) c n 2 c n N C n 3 c c C 1 l  ) n  2 ' for input: ' O c 1 ( ( c ( 2 c C = ( 3 c C c ( c O c H c ] 1 O C C ( ) c n 2 c n N C n 3 c c C 1 l  ) n  2 '\n",
      "[16:03:03] SMILES Parse Error: syntax error while parsing: C # [ c c c ( c C c C ) [ c H 2 S n O c ( / ( 4 - ) ( n c ( c c c ) c c c ( C ) )  ( 3 n    \n",
      "[16:03:03] SMILES Parse Error: Failed parsing SMILES ' C # [ c c c ( c C c C ) [ c H 2 S n O c ( / ( 4 - ) ( n c ( c c c ) c c c ( C ) )  ( 3 n    ' for input: ' C # [ c c c ( c C c C ) [ c H 2 S n O c ( / ( 4 - ) ( n c ( c c c ) c c c ( C ) )  ( 3 n    '\n",
      "[16:03:03] SMILES Parse Error: syntax error while parsing: C n C = C C C = [ c ( - C c ( ( n 2 c n N c ( c n ( B = 1 = ] C c 2 2 ] n 3 c ) n  c    ) 2 \n",
      "[16:03:03] SMILES Parse Error: Failed parsing SMILES ' C n C = C C C = [ c ( - C c ( ( n 2 c n N c ( c n ( B = 1 = ] C c 2 2 ] n 3 c ) n  c    ) 2 ' for input: ' C n C = C C C = [ c ( - C c ( ( n 2 c n N c ( c n ( B = 1 = ] C c 2 2 ] n 3 c ) n  c    ) 2 '\n",
      "[16:03:03] SMILES Parse Error: syntax error while parsing: C O c c C c O c C n c n c c 3 ] n = ( l F c C / 3 4 c n c c c ) = c c  C  ( 1  c   ) c   \n",
      "[16:03:03] SMILES Parse Error: Failed parsing SMILES ' C O c c C c O c C n c n c c 3 ] n = ( l F c C / 3 4 c n c c c ) = c c  C  ( 1  c   ) c   ' for input: ' C O c c C c O c C n c n c c 3 ] n = ( l F c C / 3 4 c n c c c ) = c c  C  ( 1  c   ) c   '\n",
      "[16:03:03] SMILES Parse Error: syntax error while parsing: C = ( ( c C ( - [ C C 1 n 2 c c c ( c c 3 C C c c ) - [ 3 c n ) ( ( 3 2 C l = 1  c  )   )  \n",
      "[16:03:03] SMILES Parse Error: Failed parsing SMILES ' C = ( ( c C ( - [ C C 1 n 2 c c c ( c c 3 C C c c ) - [ 3 c n ) ( ( 3 2 C l = 1  c  )   )  ' for input: ' C = ( ( c C ( - [ C C 1 n 2 c c c ( c c 3 C C c c ) - [ 3 c n ) ( ( 3 2 C l = 1  c  )   )  '\n",
      "[16:03:03] SMILES Parse Error: syntax error while parsing: O c C 1 N c O ( C n C ) O n c c ( = n c - c 1 / c c ( ) 4 c - 3 N c n 1 ) c c  1  c  O s  c \n",
      "[16:03:03] SMILES Parse Error: Failed parsing SMILES ' O c C 1 N c O ( C n C ) O n c c ( = n c - c 1 / c c ( ) 4 c - 3 N c n 1 ) c c  1  c  O s  c ' for input: ' O c C 1 N c O ( C n C ) O n c c ( = n c - c 1 / c c ( ) 4 c - 3 N c n 1 ) c c  1  c  O s  c '\n",
      "[16:03:03] SMILES Parse Error: syntax error while parsing: C O 1 c N ( ( O c c n C @ 1 - 3 ( - c c c c ) C ( c O 1 n 1 1 ) c ) C 2 O ) 4 c n c n  1 c  1 1\n",
      "[16:03:03] SMILES Parse Error: Failed parsing SMILES ' C O 1 c N ( ( O c c n C @ 1 - 3 ( - c c c c ) C ( c O 1 n 1 1 ) c ) C 2 O ) 4 c n c n  1 c  1 1' for input: ' C O 1 c N ( ( O c c n C @ 1 - 3 ( - c c c c ) C ( c O 1 n 1 1 ) c ) C 2 O ) 4 c n c n  1 c  1 1'\n",
      "[16:03:03] SMILES Parse Error: syntax error while parsing: C n c c N s C c ( c c c c 2 c 1 c C c C ) C 3 O F 4 C c 3 c 1 n 4 (  = 3   c  c ) O c    \n",
      "[16:03:03] SMILES Parse Error: Failed parsing SMILES ' C n c c N s C c ( c c c c 2 c 1 c C c C ) C 3 O F 4 C c 3 c 1 n 4 (  = 3   c  c ) O c    ' for input: ' C n c c N s C c ( c c c c 2 c 1 c C c C ) C 3 O F 4 C c 3 c 1 n 4 (  = 3   c  c ) O c    '\n",
      "[16:03:03] SMILES Parse Error: syntax error while parsing: C = C = c C O ( c c = H 1 ) c c c n 1 c 2 c n c n N ( ( c c 2 c 2 2 1  2   ) c )  c C    \n",
      "[16:03:03] SMILES Parse Error: Failed parsing SMILES ' C = C = c C O ( c c = H 1 ) c c c n 1 c 2 c n c n N ( ( c c 2 c 2 2 1  2   ) c )  c C    ' for input: ' C = C = c C O ( c c = H 1 ) c c c n 1 c 2 c n c n N ( ( c c 2 c 2 2 1  2   ) c )  c C    '\n",
      "[16:03:03] SMILES Parse Error: syntax error while parsing: C = c = c c n c 1 c C = n c ( - 4 n c c c 1 c c c c c - = 2 c 2 3 c r 1 c  2  c    c    \n",
      "[16:03:03] SMILES Parse Error: Failed parsing SMILES ' C = c = c c n c 1 c C = n c ( - 4 n c c c 1 c c c c c - = 2 c 2 3 c r 1 c  2  c    c    ' for input: ' C = c = c c n c 1 c C = n c ( - 4 n c c c 1 c c c c c - = 2 c 2 3 c r 1 c  2  c    c    '\n",
      "[16:03:03] SMILES Parse Error: syntax error while parsing: C O c 1 N c n 1 - c 2 c c 2 2 ] c c c ) n c c 4 ( 4 n c ) c ) c c ) c c 3 c ) @   C   1   \n",
      "[16:03:03] SMILES Parse Error: Failed parsing SMILES ' C O c 1 N c n 1 - c 2 c c 2 2 ] c c c ) n c c 4 ( 4 n c ) c ) c c ) c c 3 c ) @   C   1   ' for input: ' C O c 1 N c n 1 - c 2 c c 2 2 ] c c c ) n c c 4 ( 4 n c ) c ) c c ) c c 3 c ) @   C   1   '\n",
      "[16:03:03] SMILES Parse Error: syntax error while parsing: C O C = c C c ( c O c ( 2 2 3 n ) - - = O ( c O 2 3 c 4 [ ) C 4 c c 3 c = n )   2 2 c  O   \n",
      "[16:03:03] SMILES Parse Error: Failed parsing SMILES ' C O C = c C c ( c O c ( 2 2 3 n ) - - = O ( c O 2 3 c 4 [ ) C 4 c c 3 c = n )   2 2 c  O   ' for input: ' C O C = c C c ( c O c ( 2 2 3 n ) - - = O ( c O 2 3 c 4 [ ) C 4 c c 3 c = n )   2 2 c  O   '\n",
      "[16:03:03] SMILES Parse Error: syntax error while parsing: O O C 1 c c c ( N ) ( 1 ] C C c ( c c 2 N ( ) ) l 3 N ) c O 2 ) 2 c c c 1 ) ) O  )  S   n 2 \n",
      "[16:03:03] SMILES Parse Error: Failed parsing SMILES ' O O C 1 c c c ( N ) ( 1 ] C C c ( c c 2 N ( ) ) l 3 N ) c O 2 ) 2 c c c 1 ) ) O  )  S   n 2 ' for input: ' O O C 1 c c c ( N ) ( 1 ] C C c ( c c 2 N ( ) ) l 3 N ) c O 2 ) 2 c c c 1 ) ) O  )  S   n 2 '\n",
      "[16:03:03] SMILES Parse Error: syntax error while parsing: O = C c O C ( C [ = n c c C c ( C - c c c c 3 ( ( n N - ( ( - c S = n C N c ) C 1 C c  2 c   \n",
      "[16:03:03] SMILES Parse Error: Failed parsing SMILES ' O = C c O C ( C [ = n c c C c ( C - c c c c 3 ( ( n N - ( ( - c S = n C N c ) C 1 C c  2 c   ' for input: ' O = C c O C ( C [ = n c c C c ( C - c c c c 3 ( ( n N - ( ( - c S = n C N c ) C 1 C c  2 c   '\n",
      "[16:03:03] SMILES Parse Error: syntax error while parsing: C O c @ c = c 2 C n C C c 2 c c c 2 C 3 4 ) C c c = n c ] 4 c c = ) c C n 2 c C = 2       \n",
      "[16:03:03] SMILES Parse Error: Failed parsing SMILES ' C O c @ c = c 2 C n C C c 2 c c c 2 C 3 4 ) C c c = n c ] 4 c c = ) c C n 2 c C = 2       ' for input: ' C O c @ c = c 2 C n C C c 2 c c c 2 C 3 4 ) C c c = n c ] 4 c c = ) c C n 2 c C = 2       '\n",
      "[16:03:03] SMILES Parse Error: syntax error while parsing: B [ c 1 c c c c - N c C C o c c c 3 ( c c = c n c 1 c - c N c ( c C n c ) 2 ) C N  1 c c ) )  \n",
      "[16:03:03] SMILES Parse Error: Failed parsing SMILES ' B [ c 1 c c c c - N c C C o c c c 3 ( c c = c n c 1 c - c N c ( c C n c ) 2 ) C N  1 c c ) )  ' for input: ' B [ c 1 c c c c - N c C C o c c c 3 ( c c = c n c 1 c - c N c ( c C n c ) 2 ) C N  1 c c ) )  '\n",
      "[16:03:03] SMILES Parse Error: syntax error while parsing: O = C 1 ( c c c [ c n 1 c ( 3 C c c c [ c c ) O 1 ( c 4 2 c c 2 ( ) ) n N c c C ) 1 c      \n",
      "[16:03:03] SMILES Parse Error: Failed parsing SMILES ' O = C 1 ( c c c [ c n 1 c ( 3 C c c c [ c c ) O 1 ( c 4 2 c c 2 ( ) ) n N c c C ) 1 c      ' for input: ' O = C 1 ( c c c [ c n 1 c ( 3 C c c c [ c c ) O 1 ( c 4 2 c c 2 ( ) ) n N c c C ) 1 c      '\n",
      "[16:03:03] SMILES Parse Error: syntax error while parsing: C = C ( c C = 2 ( c C C ) O c - 3 1 l 3 ( c c c n ) n B c c C ) 3 ( C n 2 ) 4 c  1 c    c  \n",
      "[16:03:03] SMILES Parse Error: Failed parsing SMILES ' C = C ( c C = 2 ( c C C ) O c - 3 1 l 3 ( c c c n ) n B c c C ) 3 ( C n 2 ) 4 c  1 c    c  ' for input: ' C = C ( c C = 2 ( c C C ) O c - 3 1 l 3 ( c c c n ) n B c c C ) 3 ( C n 2 ) 4 c  1 c    c  '\n",
      "[16:03:03] SMILES Parse Error: syntax error while parsing: C O c c c C ( n c N c 2 n = n N c n N n n C c 2 c ( c ) n C ) c 2 c 3 1 ) o  1  3       \n",
      "[16:03:03] SMILES Parse Error: Failed parsing SMILES ' C O c c c C ( n c N c 2 n = n N c n N n n C c 2 c ( c ) n C ) c 2 c 3 1 ) o  1  3       ' for input: ' C O c c c C ( n c N c 2 n = n N c n N n n C c 2 c ( c ) n C ) c 2 c 3 1 ) o  1  3       '\n",
      "[16:03:03] SMILES Parse Error: syntax error while parsing: C O C c ) c F n c 2 ( ( ( c c c c 2 c c 3 - c 3 2 c c n s O ( C O = C  N    c c   2    \n",
      "[16:03:03] SMILES Parse Error: Failed parsing SMILES ' C O C c ) c F n c 2 ( ( ( c c c c 2 c c 3 - c 3 2 c c n s O ( C O = C  N    c c   2    ' for input: ' C O C c ) c F n c 2 ( ( ( c c c c 2 c c 3 - c 3 2 c c n s O ( C O = C  N    c c   2    '\n",
      "[16:03:03] SMILES Parse Error: syntax error while parsing: O n C c N c 2 c c C ( 1 n 3 c c c n 2 c 4 ) c 1 O c 4 1 ) c c c c ( ( ) 1 C c 1 )   N     \n",
      "[16:03:03] SMILES Parse Error: Failed parsing SMILES ' O n C c N c 2 c c C ( 1 n 3 c c c n 2 c 4 ) c 1 O c 4 1 ) c c c c ( ( ) 1 C c 1 )   N     ' for input: ' O n C c N c 2 c c C ( 1 n 3 c c c n 2 c 4 ) c 1 O c 4 1 ) c c c c ( ( ) 1 C c 1 )   N     '\n",
      "[16:03:03] SMILES Parse Error: syntax error while parsing: C C 1 1 c ( c c 2 ( @ 1 ] c ) c c ( 4 B ) ) c c ) N n c c c c 4 4 c O N C 1  )      n 1 \n",
      "[16:03:03] SMILES Parse Error: Failed parsing SMILES ' C C 1 1 c ( c c 2 ( @ 1 ] c ) c c ( 4 B ) ) c c ) N n c c c c 4 4 c O N C 1  )      n 1 ' for input: ' C C 1 1 c ( c c 2 ( @ 1 ] c ) c c ( 4 B ) ) c c ) N n c c c c 4 4 c O N C 1  )      n 1 '\n",
      "[16:03:03] SMILES Parse Error: syntax error while parsing: C = O @ = c c c N c 3 n c C ( 1 c ( c c ( ] - c 3 c n n 2 N c c n o c 2 n C ) c  1 c   C   \n",
      "[16:03:03] SMILES Parse Error: Failed parsing SMILES ' C = O @ = c c c N c 3 n c C ( 1 c ( c c ( ] - c 3 c n n 2 N c c n o c 2 n C ) c  1 c   C   ' for input: ' C = O @ = c c c N c 3 n c C ( 1 c ( c c ( ] - c 3 c n n 2 N c c n o c 2 n C ) c  1 c   C   '\n",
      "[16:03:03] SMILES Parse Error: syntax error while parsing: N = C @ c c ( = C c n o ] c n c c c ( ( c N = n O 3 n ) c 4 ( ) [ C c = c ) ( 3 c   )  c   \n",
      "[16:03:03] SMILES Parse Error: Failed parsing SMILES ' N = C @ c c ( = C c n o ] c n c c c ( ( c N = n O 3 n ) c 4 ( ) [ C c = c ) ( 3 c   )  c   ' for input: ' N = C @ c c ( = C c n o ] c n c c c ( ( c N = n O 3 n ) c 4 ( ) [ C c = c ) ( 3 c   )  c   '\n",
      "[16:03:03] SMILES Parse Error: syntax error while parsing: C c ( 1 c c ( ( - c n C c n c c ( c ( - - n C c n ) ( n 1 ) c l r O c 2 2 C C O )  1  O   1 \n",
      "[16:03:03] SMILES Parse Error: Failed parsing SMILES ' C c ( 1 c c ( ( - c n C c n c c ( c ( - - n C c n ) ( n 1 ) c l r O c 2 2 C C O )  1  O   1 ' for input: ' C c ( 1 c c ( ( - c n C c n c c ( c ( - - n C c n ) ( n 1 ) c l r O c 2 2 C C O )  1  O   1 '\n",
      "[16:03:03] SMILES Parse Error: syntax error while parsing: C = 1 ( / c C 2 C c c c c n c c c 3 2 ) - ) c 3 n ( 2 ( ) c ) - c ) c ) C 3 c c (  ) 1 =    \n",
      "[16:03:03] SMILES Parse Error: Failed parsing SMILES ' C = 1 ( / c C 2 C c c c c n c c c 3 2 ) - ) c 3 n ( 2 ( ) c ) - c ) c ) C 3 c c (  ) 1 =    ' for input: ' C = 1 ( / c C 2 C c c c c n c c c 3 2 ) - ) c 3 n ( 2 ( ) c ) - c ) c ) C 3 c c (  ) 1 =    '\n",
      "[16:03:03] SMILES Parse Error: syntax error while parsing: O c C [ N c C C N S n ] O c 3 N ( n N 1 c c ( n n c c / C c O O - ) ) ( ) ) 1 1   C    1  \n",
      "[16:03:03] SMILES Parse Error: Failed parsing SMILES ' O c C [ N c C C N S n ] O c 3 N ( n N 1 c c ( n n c c / C c O O - ) ) ( ) ) 1 1   C    1  ' for input: ' O c C [ N c C C N S n ] O c 3 N ( n N 1 c c ( n n c c / C c O O - ) ) ( ) ) 1 1   C    1  '\n",
      "[16:03:03] SMILES Parse Error: syntax error while parsing: N n c 1 c n c ) O ( 1 ( ( c n N c n ( C c 3 c + O ] F 3 C c 3 c C ( c O 3   c   c C   2  \n",
      "[16:03:03] SMILES Parse Error: Failed parsing SMILES ' N n c 1 c n c ) O ( 1 ( ( c n N c n ( C c 3 c + O ] F 3 C c 3 c C ( c O 3   c   c C   2  ' for input: ' N n c 1 c n c ) O ( 1 ( ( c n N c n ( C c 3 c + O ] F 3 C c 3 c C ( c O 3   c   c C   2  '\n",
      "[16:03:03] SMILES Parse Error: syntax error while parsing: O = C n O c c 2 [ [ 1 H c ( ( c c 3 ( n ( = C ) N 3 1 n c c c 1 3 c ) c n  (  1 c   c    \n",
      "[16:03:03] SMILES Parse Error: Failed parsing SMILES ' O = C n O c c 2 [ [ 1 H c ( ( c c 3 ( n ( = C ) N 3 1 n c c c 1 3 c ) c n  (  1 c   c    ' for input: ' O = C n O c c 2 [ [ 1 H c ( ( c c 3 ( n ( = C ) N 3 1 n c c c 1 3 c ) c n  (  1 c   c    '\n"
     ]
    },
    {
     "data": {
      "text/plain": [
       "['I C O C c c C c ( O n c o C C ( c \\\\ c c c C - 3 c n c H F n ) 3 O 2 c O c n 2 o 2 N   2    C ']"
      ]
     },
     "execution_count": 435,
     "metadata": {},
     "output_type": "execute_result"
    }
   ],
   "source": [
    "checkSMILES(smiles)"
   ]
  },
  {
   "cell_type": "markdown",
   "id": "fb61d1d6-755a-48a5-b564-07b4d3925423",
   "metadata": {},
   "source": [
    "### We correctly generated one molecule"
   ]
  },
  {
   "cell_type": "code",
   "execution_count": null,
   "id": "60042eb7-210f-46d0-a668-3af4f3216c87",
   "metadata": {},
   "outputs": [],
   "source": []
  }
 ],
 "metadata": {
  "kernelspec": {
   "display_name": "Python 3 (ipykernel)",
   "language": "python",
   "name": "python3"
  },
  "language_info": {
   "codemirror_mode": {
    "name": "ipython",
    "version": 3
   },
   "file_extension": ".py",
   "mimetype": "text/x-python",
   "name": "python",
   "nbconvert_exporter": "python",
   "pygments_lexer": "ipython3",
   "version": "3.12.5"
  }
 },
 "nbformat": 4,
 "nbformat_minor": 5
}
